{
 "cells": [
  {
   "cell_type": "markdown",
   "id": "086a113c",
   "metadata": {
    "id": "086a113c"
   },
   "source": [
    "# <center> Обучение с учителем. Классификация. Практика\n",
    "\n",
    "## <center> Прогнозирование оттока клиентов банка"
   ]
  },
  {
   "cell_type": "markdown",
   "id": "85ccf5ae",
   "metadata": {
    "id": "85ccf5ae"
   },
   "source": [
    "## Постановка задачи"
   ]
  },
  {
   "cell_type": "markdown",
   "id": "20769d74",
   "metadata": {
    "id": "20769d74"
   },
   "source": [
    "Теперь настало время самостоятельной работы. В рамках самостоятельной работы вам предстоит решить задачу прогнозирования оттока клиентов банка. \n",
    "\n",
    "> **Примечание.** Вы уже знакомились с этой задачей в модуле по визуализации («PYTHON-13. Визуализация данных») и провели небольшое исследование данных. Вы можете использовать результаты своего исследования для построения модели машинного обучения.\n",
    "\n",
    "Напомним контекст задачи:\n",
    "\n",
    "> Некоторый банк обратился к вам за помощью: он хочет разработать кампанию лояльности по удержанию клиентов. Для этого он хочет прогнозировать вероятности оттока клиентов и определять, уйдёт ли клиент в ближайшее время. \n",
    "\n",
    "Итак, ранее вы провели небольшой разведывательный анализ, познакомились с данными и выявили, чем ушедшие клиенты отличаются от лояльных и как между собой связаны различные признаки, определяющие клиентов. Вы отлично справились с первой задачей, и теперь представители банка предлагают вам построить саму модель машинного обучения, которая будет прогнозировать отток клиентов. \n",
    "\n",
    "**Ваша задача** - построить классификатор, который позволит своевременно определять уходящих клиентов банка, оценить качество построенных моделей и проинтерпретировать результаты.\n",
    "\n",
    "Разделим эту задачу на две части:\n",
    "* В первой части мы подготовим данные для моделирования и построим простейшую модель логистической регрессии, оценим её качество и проанализируем результаты её работы.\n",
    "\n",
    "* Во второй части мы займёмся построением моделей дерева решений и случайного леса, сравним их результаты с результатами, полученными на первом этапе, и сделаем финальный вывод.\n"
   ]
  },
  {
   "cell_type": "markdown",
   "id": "fd90490e",
   "metadata": {
    "id": "fd90490e"
   },
   "source": [
    "Для начала импортируем библиотеки, которые нам понадобятся:"
   ]
  },
  {
   "cell_type": "code",
   "execution_count": 1,
   "id": "a26669af-982b-421f-9441-4d5f3a8ffb5d",
   "metadata": {
    "id": "a26669af-982b-421f-9441-4d5f3a8ffb5d"
   },
   "outputs": [],
   "source": [
    "import numpy as np #для матричных вычислений\n",
    "import pandas as pd #для анализа и предобработки данных\n",
    "import matplotlib.pyplot as plt #для визуализации\n",
    "import seaborn as sns #для визуализации\n",
    "\n",
    "from sklearn import linear_model #линейные модели\n",
    "from sklearn import metrics #метрики\n",
    "from sklearn import model_selection #сплитование выборки\n",
    "from sklearn import preprocessing #предобработка данных\n",
    "\n",
    "import scipy.stats as stats\n",
    "\n",
    "# делаем визуальную настройку графиков\n",
    "%matplotlib inline\n",
    "sns.set_palette(\"Set2\") \n",
    "sns.set_theme(style=\"dark\")"
   ]
  },
  {
   "cell_type": "markdown",
   "id": "6687034e",
   "metadata": {
    "id": "6687034e"
   },
   "source": [
    "Итак, прочитаем нашу таблицу:"
   ]
  },
  {
   "cell_type": "code",
   "execution_count": 2,
   "id": "2fa60e26-cf4c-4dec-baca-90c3025d2bed",
   "metadata": {
    "colab": {
     "base_uri": "https://localhost:8080/",
     "height": 270
    },
    "executionInfo": {
     "elapsed": 7,
     "status": "ok",
     "timestamp": 1678085430153,
     "user": {
      "displayName": "Андрей Достоевский",
      "userId": "09718989537568551698"
     },
     "user_tz": -180
    },
    "id": "2fa60e26-cf4c-4dec-baca-90c3025d2bed",
    "outputId": "029556b1-99b4-4ec5-c2f4-9c07fabca762"
   },
   "outputs": [
    {
     "data": {
      "text/html": [
       "<div>\n",
       "<style scoped>\n",
       "    .dataframe tbody tr th:only-of-type {\n",
       "        vertical-align: middle;\n",
       "    }\n",
       "\n",
       "    .dataframe tbody tr th {\n",
       "        vertical-align: top;\n",
       "    }\n",
       "\n",
       "    .dataframe thead th {\n",
       "        text-align: right;\n",
       "    }\n",
       "</style>\n",
       "<table border=\"1\" class=\"dataframe\">\n",
       "  <thead>\n",
       "    <tr style=\"text-align: right;\">\n",
       "      <th></th>\n",
       "      <th>RowNumber</th>\n",
       "      <th>CustomerId</th>\n",
       "      <th>Surname</th>\n",
       "      <th>CreditScore</th>\n",
       "      <th>Geography</th>\n",
       "      <th>Gender</th>\n",
       "      <th>Age</th>\n",
       "      <th>Tenure</th>\n",
       "      <th>Balance</th>\n",
       "      <th>NumOfProducts</th>\n",
       "      <th>HasCrCard</th>\n",
       "      <th>IsActiveMember</th>\n",
       "      <th>EstimatedSalary</th>\n",
       "      <th>Exited</th>\n",
       "    </tr>\n",
       "  </thead>\n",
       "  <tbody>\n",
       "    <tr>\n",
       "      <th>0</th>\n",
       "      <td>1</td>\n",
       "      <td>15634602</td>\n",
       "      <td>Hargrave</td>\n",
       "      <td>619</td>\n",
       "      <td>France</td>\n",
       "      <td>Female</td>\n",
       "      <td>42</td>\n",
       "      <td>2</td>\n",
       "      <td>0.00</td>\n",
       "      <td>1</td>\n",
       "      <td>1</td>\n",
       "      <td>1</td>\n",
       "      <td>101348.88</td>\n",
       "      <td>1</td>\n",
       "    </tr>\n",
       "    <tr>\n",
       "      <th>1</th>\n",
       "      <td>2</td>\n",
       "      <td>15647311</td>\n",
       "      <td>Hill</td>\n",
       "      <td>608</td>\n",
       "      <td>Spain</td>\n",
       "      <td>Female</td>\n",
       "      <td>41</td>\n",
       "      <td>1</td>\n",
       "      <td>83807.86</td>\n",
       "      <td>1</td>\n",
       "      <td>0</td>\n",
       "      <td>1</td>\n",
       "      <td>112542.58</td>\n",
       "      <td>0</td>\n",
       "    </tr>\n",
       "    <tr>\n",
       "      <th>2</th>\n",
       "      <td>3</td>\n",
       "      <td>15619304</td>\n",
       "      <td>Onio</td>\n",
       "      <td>502</td>\n",
       "      <td>France</td>\n",
       "      <td>Female</td>\n",
       "      <td>42</td>\n",
       "      <td>8</td>\n",
       "      <td>159660.80</td>\n",
       "      <td>3</td>\n",
       "      <td>1</td>\n",
       "      <td>0</td>\n",
       "      <td>113931.57</td>\n",
       "      <td>1</td>\n",
       "    </tr>\n",
       "    <tr>\n",
       "      <th>3</th>\n",
       "      <td>4</td>\n",
       "      <td>15701354</td>\n",
       "      <td>Boni</td>\n",
       "      <td>699</td>\n",
       "      <td>France</td>\n",
       "      <td>Female</td>\n",
       "      <td>39</td>\n",
       "      <td>1</td>\n",
       "      <td>0.00</td>\n",
       "      <td>2</td>\n",
       "      <td>0</td>\n",
       "      <td>0</td>\n",
       "      <td>93826.63</td>\n",
       "      <td>0</td>\n",
       "    </tr>\n",
       "    <tr>\n",
       "      <th>4</th>\n",
       "      <td>5</td>\n",
       "      <td>15737888</td>\n",
       "      <td>Mitchell</td>\n",
       "      <td>850</td>\n",
       "      <td>Spain</td>\n",
       "      <td>Female</td>\n",
       "      <td>43</td>\n",
       "      <td>2</td>\n",
       "      <td>125510.82</td>\n",
       "      <td>1</td>\n",
       "      <td>1</td>\n",
       "      <td>1</td>\n",
       "      <td>79084.10</td>\n",
       "      <td>0</td>\n",
       "    </tr>\n",
       "  </tbody>\n",
       "</table>\n",
       "</div>"
      ],
      "text/plain": [
       "   RowNumber  CustomerId   Surname  CreditScore Geography  Gender  Age  \\\n",
       "0          1    15634602  Hargrave          619    France  Female   42   \n",
       "1          2    15647311      Hill          608     Spain  Female   41   \n",
       "2          3    15619304      Onio          502    France  Female   42   \n",
       "3          4    15701354      Boni          699    France  Female   39   \n",
       "4          5    15737888  Mitchell          850     Spain  Female   43   \n",
       "\n",
       "   Tenure    Balance  NumOfProducts  HasCrCard  IsActiveMember  \\\n",
       "0       2       0.00              1          1               1   \n",
       "1       1   83807.86              1          0               1   \n",
       "2       8  159660.80              3          1               0   \n",
       "3       1       0.00              2          0               0   \n",
       "4       2  125510.82              1          1               1   \n",
       "\n",
       "   EstimatedSalary  Exited  \n",
       "0        101348.88       1  \n",
       "1        112542.58       0  \n",
       "2        113931.57       1  \n",
       "3         93826.63       0  \n",
       "4         79084.10       0  "
      ]
     },
     "execution_count": 2,
     "metadata": {},
     "output_type": "execute_result"
    }
   ],
   "source": [
    "churn_data = pd.read_csv('data/churn.csv')\n",
    "churn_data.head()"
   ]
  },
  {
   "cell_type": "markdown",
   "id": "d2fa56d2",
   "metadata": {
    "id": "d2fa56d2"
   },
   "source": [
    "## Практика: логистическая регрессия"
   ]
  },
  {
   "cell_type": "markdown",
   "id": "4cRkKq9ZItBe",
   "metadata": {
    "id": "4cRkKq9ZItBe"
   },
   "source": [
    "В первой части вам предстоит выполнить задания 5.0–5.6. Максимальное количество баллов, которое можно получить, — 9:"
   ]
  },
  {
   "cell_type": "markdown",
   "id": "489f4fdd",
   "metadata": {
    "id": "489f4fdd"
   },
   "source": [
    "### Задание 5.0 (не оценивается)\n",
    "\n",
    "Для полноты задачи проведите небольшой разведывательный анализ данных. Постройте графики распределения целевого признака, диаграммы и графики, показывающие взаимосвязь между исходными признаками и целевым признаком, а также другие диаграммы, иллюстрирующие предоставленные данные. \n",
    "\n",
    "**Совет:** воспользуйтесь кодом, который вы писали, выполняя задания в модуле «PYTHON-13. Визуализация данных»."
   ]
  },
  {
   "cell_type": "code",
   "execution_count": 3,
   "id": "44542330",
   "metadata": {
    "id": "44542330"
   },
   "outputs": [
    {
     "data": {
      "image/png": "[encoded data removed]",
      "text/plain": [
       "<Figure size 1000x650 with 4 Axes>"
      ]
     },
     "metadata": {},
     "output_type": "display_data"
    }
   ],
   "source": [
    "fig, axes = plt.subplots(2, 2, figsize=(10, 6.5), constrained_layout=True)\n",
    "\n",
    "Exited_data = churn_data['Exited'].apply(lambda x: 'Ушедшие' if x==1 else 'Лояльные')\n",
    "Exited_data = Exited_data.value_counts()\n",
    "\n",
    "axes[0,0].pie(Exited_data,\n",
    "         labels = Exited_data.index,\n",
    "         explode = [0.1, 0],\n",
    "         autopct='%.1f%%')\n",
    "axes[0,0].set_title('Соотношение ушедших и лояльных клиентов');\n",
    "\n",
    "sns.histplot(data=churn_data,\n",
    "            x = 'Balance',\n",
    "            bins=20,\n",
    "            color = 'green',\n",
    "            ax = axes[0,1],\n",
    "            kde=True)\n",
    "axes[0,1].set_title('Распредение баланса пользователей', fontsize = 12);\n",
    "axes[0,1].set_xlabel('Баланс клиентов на счете в банке в $', size = 12)\n",
    "axes[0,1].set_ylabel('Количество пользователей')\n",
    "axes[0,1].xaxis.set_tick_params(rotation = 30, labelsize = 9)\n",
    "axes[0,1].grid();\n",
    "\n",
    "churn_data['Loyalty'] = churn_data['Exited'].apply(lambda x: 'Ушедшие' if x==1 else 'Лояльные')\n",
    "\n",
    "boxplt = sns.boxplot(data=churn_data,\n",
    "                     x='Age',\n",
    "                     y='Loyalty',\n",
    "                     orient='h',\n",
    "                     color='lightblue',\n",
    "                     ax=axes[1,0])\n",
    "axes[1,0].set_title('Распределение клиентов банка по возрасту')\n",
    "axes[1,0].set_xlabel(\"Возраст\")\n",
    "axes[1,0].set_ylabel(\"\")\n",
    "axes[1,0].grid()\n",
    "\n",
    "churn_data['Активность'] = churn_data['IsActiveMember'].apply(lambda x: 'Активный' if x==1 else 'Неактивный')\n",
    "grupped2 = churn_data.groupby(by='Loyalty')['Активность'].value_counts().reset_index(name='counts')\n",
    "\n",
    "barplt = sns.barplot(data=grupped2,\n",
    "                     x='Активность',\n",
    "                     y='counts',\n",
    "                     hue='Loyalty',\n",
    "                     ax=axes[1,1])\n",
    "\n",
    "axes[1,1].set_title(\"Диаграмма активности клиентов\", fontsize = 15);\n",
    "axes[1,1].set_xlabel('Тип клиента', size = 10)\n",
    "axes[1,1].set_ylabel('Количество пользователей')\n",
    "axes[1,1].yaxis.set_tick_params(labelsize = 9)\n",
    "axes[1,1].legend(title='Тип клиентов');\n",
    "\n"
   ]
  },
  {
   "cell_type": "markdown",
   "id": "8e687f96",
   "metadata": {
    "id": "8e687f96"
   },
   "source": [
    "В модуле по визуализации мы выяснили, что отток в Германии, Франции и Испании имеет различные показатели. Исследователи, которые уже работали с этим датасетом, пришли к выводу, что наилучшее решение при работе с этими данными — строить модели индивидуально для каждой страны. Мы будем прогнозировать отток в немецком филиале банка. Давайте выделим только данные, относящиеся к Германии:"
   ]
  },
  {
   "cell_type": "code",
   "execution_count": 4,
   "id": "4bd5cc7f-5db6-4464-9ccf-f40b9c0c97cb",
   "metadata": {
    "colab": {
     "base_uri": "https://localhost:8080/"
    },
    "executionInfo": {
     "elapsed": 3,
     "status": "ok",
     "timestamp": 1678085431373,
     "user": {
      "displayName": "Андрей Достоевский",
      "userId": "09718989537568551698"
     },
     "user_tz": -180
    },
    "id": "4bd5cc7f-5db6-4464-9ccf-f40b9c0c97cb",
    "outputId": "2adeac9c-d989-4731-cc95-9559e4a0e75f"
   },
   "outputs": [
    {
     "data": {
      "text/plain": [
       "(2509, 16)"
      ]
     },
     "execution_count": 4,
     "metadata": {},
     "output_type": "execute_result"
    }
   ],
   "source": [
    "churn_data = churn_data[churn_data['Geography'] == 'Germany']\n",
    "churn_data.shape"
   ]
  },
  {
   "cell_type": "markdown",
   "id": "faa98fa3",
   "metadata": {
    "id": "faa98fa3"
   },
   "source": [
    "Сразу избавимся от заведомо неинформативных признаков: страна, номер строки, идентификатор пользователя и имя клиента."
   ]
  },
  {
   "cell_type": "code",
   "execution_count": 5,
   "id": "47fd1e77-b9ab-4df6-ab69-c2d0d7411fee",
   "metadata": {
    "colab": {
     "base_uri": "https://localhost:8080/",
     "height": 206
    },
    "executionInfo": {
     "elapsed": 251,
     "status": "ok",
     "timestamp": 1678085432399,
     "user": {
      "displayName": "Андрей Достоевский",
      "userId": "09718989537568551698"
     },
     "user_tz": -180
    },
    "id": "47fd1e77-b9ab-4df6-ab69-c2d0d7411fee",
    "outputId": "ee541ca7-ba13-4f6c-b3c5-7c82bba571b0",
    "tags": []
   },
   "outputs": [
    {
     "data": {
      "text/html": [
       "<div>\n",
       "<style scoped>\n",
       "    .dataframe tbody tr th:only-of-type {\n",
       "        vertical-align: middle;\n",
       "    }\n",
       "\n",
       "    .dataframe tbody tr th {\n",
       "        vertical-align: top;\n",
       "    }\n",
       "\n",
       "    .dataframe thead th {\n",
       "        text-align: right;\n",
       "    }\n",
       "</style>\n",
       "<table border=\"1\" class=\"dataframe\">\n",
       "  <thead>\n",
       "    <tr style=\"text-align: right;\">\n",
       "      <th></th>\n",
       "      <th>CreditScore</th>\n",
       "      <th>Gender</th>\n",
       "      <th>Age</th>\n",
       "      <th>Tenure</th>\n",
       "      <th>Balance</th>\n",
       "      <th>NumOfProducts</th>\n",
       "      <th>HasCrCard</th>\n",
       "      <th>IsActiveMember</th>\n",
       "      <th>EstimatedSalary</th>\n",
       "      <th>Exited</th>\n",
       "    </tr>\n",
       "  </thead>\n",
       "  <tbody>\n",
       "    <tr>\n",
       "      <th>7</th>\n",
       "      <td>376</td>\n",
       "      <td>Female</td>\n",
       "      <td>29</td>\n",
       "      <td>4</td>\n",
       "      <td>115046.74</td>\n",
       "      <td>4</td>\n",
       "      <td>1</td>\n",
       "      <td>0</td>\n",
       "      <td>119346.88</td>\n",
       "      <td>1</td>\n",
       "    </tr>\n",
       "    <tr>\n",
       "      <th>15</th>\n",
       "      <td>616</td>\n",
       "      <td>Male</td>\n",
       "      <td>45</td>\n",
       "      <td>3</td>\n",
       "      <td>143129.41</td>\n",
       "      <td>2</td>\n",
       "      <td>0</td>\n",
       "      <td>1</td>\n",
       "      <td>64327.26</td>\n",
       "      <td>0</td>\n",
       "    </tr>\n",
       "    <tr>\n",
       "      <th>16</th>\n",
       "      <td>653</td>\n",
       "      <td>Male</td>\n",
       "      <td>58</td>\n",
       "      <td>1</td>\n",
       "      <td>132602.88</td>\n",
       "      <td>1</td>\n",
       "      <td>1</td>\n",
       "      <td>0</td>\n",
       "      <td>5097.67</td>\n",
       "      <td>1</td>\n",
       "    </tr>\n",
       "    <tr>\n",
       "      <th>26</th>\n",
       "      <td>756</td>\n",
       "      <td>Male</td>\n",
       "      <td>36</td>\n",
       "      <td>2</td>\n",
       "      <td>136815.64</td>\n",
       "      <td>1</td>\n",
       "      <td>1</td>\n",
       "      <td>1</td>\n",
       "      <td>170041.95</td>\n",
       "      <td>0</td>\n",
       "    </tr>\n",
       "    <tr>\n",
       "      <th>28</th>\n",
       "      <td>574</td>\n",
       "      <td>Female</td>\n",
       "      <td>43</td>\n",
       "      <td>3</td>\n",
       "      <td>141349.43</td>\n",
       "      <td>1</td>\n",
       "      <td>1</td>\n",
       "      <td>1</td>\n",
       "      <td>100187.43</td>\n",
       "      <td>0</td>\n",
       "    </tr>\n",
       "  </tbody>\n",
       "</table>\n",
       "</div>"
      ],
      "text/plain": [
       "    CreditScore  Gender  Age  Tenure    Balance  NumOfProducts  HasCrCard  \\\n",
       "7           376  Female   29       4  115046.74              4          1   \n",
       "15          616    Male   45       3  143129.41              2          0   \n",
       "16          653    Male   58       1  132602.88              1          1   \n",
       "26          756    Male   36       2  136815.64              1          1   \n",
       "28          574  Female   43       3  141349.43              1          1   \n",
       "\n",
       "    IsActiveMember  EstimatedSalary  Exited  \n",
       "7                0        119346.88       1  \n",
       "15               1         64327.26       0  \n",
       "16               0          5097.67       1  \n",
       "26               1        170041.95       0  \n",
       "28               1        100187.43       0  "
      ]
     },
     "execution_count": 5,
     "metadata": {},
     "output_type": "execute_result"
    }
   ],
   "source": [
    "churn_data = churn_data.drop(['Geography', 'RowNumber', 'CustomerId', 'Surname', 'Loyalty', 'Активность'], axis=1)\n",
    "churn_data.head()"
   ]
  },
  {
   "cell_type": "markdown",
   "id": "c2ef5b16",
   "metadata": {
    "id": "c2ef5b16"
   },
   "source": [
    "Проверим, что в наших данных нет пропусков:"
   ]
  },
  {
   "cell_type": "code",
   "execution_count": 6,
   "id": "164b1772-00c0-4cb7-9e05-ee9d9f7953d8",
   "metadata": {
    "colab": {
     "base_uri": "https://localhost:8080/"
    },
    "executionInfo": {
     "elapsed": 2,
     "status": "ok",
     "timestamp": 1678085433267,
     "user": {
      "displayName": "Андрей Достоевский",
      "userId": "09718989537568551698"
     },
     "user_tz": -180
    },
    "id": "164b1772-00c0-4cb7-9e05-ee9d9f7953d8",
    "outputId": "f8b2ff23-e81b-4f65-cd13-54655bb04fb0"
   },
   "outputs": [
    {
     "data": {
      "text/plain": [
       "CreditScore        0\n",
       "Gender             0\n",
       "Age                0\n",
       "Tenure             0\n",
       "Balance            0\n",
       "NumOfProducts      0\n",
       "HasCrCard          0\n",
       "IsActiveMember     0\n",
       "EstimatedSalary    0\n",
       "Exited             0\n",
       "dtype: int64"
      ]
     },
     "execution_count": 6,
     "metadata": {},
     "output_type": "execute_result"
    }
   ],
   "source": [
    "churn_data.isnull().sum()"
   ]
  },
  {
   "cell_type": "markdown",
   "id": "06cc2b0f",
   "metadata": {
    "id": "06cc2b0f"
   },
   "source": [
    "Проверим, что в наших данных нет дубликатов:"
   ]
  },
  {
   "cell_type": "code",
   "execution_count": 7,
   "id": "38127c2b",
   "metadata": {
    "colab": {
     "base_uri": "https://localhost:8080/"
    },
    "executionInfo": {
     "elapsed": 2,
     "status": "ok",
     "timestamp": 1678085433787,
     "user": {
      "displayName": "Андрей Достоевский",
      "userId": "09718989537568551698"
     },
     "user_tz": -180
    },
    "id": "38127c2b",
    "outputId": "9b563c30-2343-4aad-c484-feef7b7095df"
   },
   "outputs": [
    {
     "data": {
      "text/plain": [
       "CreditScore          0\n",
       "Gender               0\n",
       "Age                  0\n",
       "Tenure               0\n",
       "Balance            0.0\n",
       "NumOfProducts        0\n",
       "HasCrCard            0\n",
       "IsActiveMember       0\n",
       "EstimatedSalary    0.0\n",
       "Exited               0\n",
       "dtype: object"
      ]
     },
     "execution_count": 7,
     "metadata": {},
     "output_type": "execute_result"
    }
   ],
   "source": [
    "churn_data[churn_data.duplicated()].sum()"
   ]
  },
  {
   "cell_type": "markdown",
   "id": "2cff3b2c",
   "metadata": {
    "id": "2cff3b2c"
   },
   "source": [
    "### Задание 5.1 (1 балл)\n",
    "\n",
    "Давайте сделаем предобработку данных. \n",
    "\n",
    "Для начала расширим датасет с помощью методов Feature Engineering. Создайте следующие признаки:\n",
    "* `BalanceSalaryRatio` — отношение баланса на счетах к заработной плате клиента;\n",
    "* `TenureByAge` — отношение времени пользования услугами банка к возрасту клиента;\n",
    "* `CreditScoreGivenAge` — отношение кредитного рейтинга к возрасту клиента.\n",
    "\n",
    "Затем перекодируйте оставшиеся текстовые категориальные признаки в числовые бинарные столбцы.\n",
    "\n",
    "Выведите основные статистические характеристики полученных признаков."
   ]
  },
  {
   "cell_type": "markdown",
   "id": "f34dcdf2",
   "metadata": {
    "id": "f34dcdf2"
   },
   "source": [
    "**Критерии оценивания:**\n",
    "- Задание выполнено верно, учтены все условия (**1 балл**): \n",
    "    * приведён код для создания указанных в задании признаков;\n",
    "    * приведён код для кодирования категориальных признаков в числовые бинарные столбцы;\n",
    "    * приведён код для расчёта основных статистических характеристик полученных признаков.\n",
    "\n",
    "- Задание выполнено неверно, не учтено одно или несколько условий (**0 баллов**)."
   ]
  },
  {
   "cell_type": "code",
   "execution_count": 8,
   "id": "ede60f06",
   "metadata": {},
   "outputs": [
    {
     "data": {
      "text/html": [
       "<div>\n",
       "<style scoped>\n",
       "    .dataframe tbody tr th:only-of-type {\n",
       "        vertical-align: middle;\n",
       "    }\n",
       "\n",
       "    .dataframe tbody tr th {\n",
       "        vertical-align: top;\n",
       "    }\n",
       "\n",
       "    .dataframe thead th {\n",
       "        text-align: right;\n",
       "    }\n",
       "</style>\n",
       "<table border=\"1\" class=\"dataframe\">\n",
       "  <thead>\n",
       "    <tr style=\"text-align: right;\">\n",
       "      <th></th>\n",
       "      <th>CreditScore</th>\n",
       "      <th>Age</th>\n",
       "      <th>Tenure</th>\n",
       "      <th>Balance</th>\n",
       "      <th>NumOfProducts</th>\n",
       "      <th>HasCrCard</th>\n",
       "      <th>IsActiveMember</th>\n",
       "      <th>EstimatedSalary</th>\n",
       "      <th>Exited</th>\n",
       "      <th>BalanceSalaryRatio</th>\n",
       "      <th>TenureByAge</th>\n",
       "      <th>CreditScoreGivenAge</th>\n",
       "      <th>Gender_Male</th>\n",
       "    </tr>\n",
       "  </thead>\n",
       "  <tbody>\n",
       "    <tr>\n",
       "      <th>7</th>\n",
       "      <td>376</td>\n",
       "      <td>29</td>\n",
       "      <td>4</td>\n",
       "      <td>115046.74</td>\n",
       "      <td>4</td>\n",
       "      <td>1</td>\n",
       "      <td>0</td>\n",
       "      <td>119346.88</td>\n",
       "      <td>1</td>\n",
       "      <td>0.963969</td>\n",
       "      <td>0.137931</td>\n",
       "      <td>12.965517</td>\n",
       "      <td>False</td>\n",
       "    </tr>\n",
       "    <tr>\n",
       "      <th>15</th>\n",
       "      <td>616</td>\n",
       "      <td>45</td>\n",
       "      <td>3</td>\n",
       "      <td>143129.41</td>\n",
       "      <td>2</td>\n",
       "      <td>0</td>\n",
       "      <td>1</td>\n",
       "      <td>64327.26</td>\n",
       "      <td>0</td>\n",
       "      <td>2.225020</td>\n",
       "      <td>0.066667</td>\n",
       "      <td>13.688889</td>\n",
       "      <td>True</td>\n",
       "    </tr>\n",
       "    <tr>\n",
       "      <th>16</th>\n",
       "      <td>653</td>\n",
       "      <td>58</td>\n",
       "      <td>1</td>\n",
       "      <td>132602.88</td>\n",
       "      <td>1</td>\n",
       "      <td>1</td>\n",
       "      <td>0</td>\n",
       "      <td>5097.67</td>\n",
       "      <td>1</td>\n",
       "      <td>26.012449</td>\n",
       "      <td>0.017241</td>\n",
       "      <td>11.258621</td>\n",
       "      <td>True</td>\n",
       "    </tr>\n",
       "  </tbody>\n",
       "</table>\n",
       "</div>"
      ],
      "text/plain": [
       "    CreditScore  Age  Tenure    Balance  NumOfProducts  HasCrCard  \\\n",
       "7           376   29       4  115046.74              4          1   \n",
       "15          616   45       3  143129.41              2          0   \n",
       "16          653   58       1  132602.88              1          1   \n",
       "\n",
       "    IsActiveMember  EstimatedSalary  Exited  BalanceSalaryRatio  TenureByAge  \\\n",
       "7                0        119346.88       1            0.963969     0.137931   \n",
       "15               1         64327.26       0            2.225020     0.066667   \n",
       "16               0          5097.67       1           26.012449     0.017241   \n",
       "\n",
       "    CreditScoreGivenAge  Gender_Male  \n",
       "7             12.965517        False  \n",
       "15            13.688889         True  \n",
       "16            11.258621         True  "
      ]
     },
     "metadata": {},
     "output_type": "display_data"
    },
    {
     "data": {
      "text/html": [
       "<div>\n",
       "<style scoped>\n",
       "    .dataframe tbody tr th:only-of-type {\n",
       "        vertical-align: middle;\n",
       "    }\n",
       "\n",
       "    .dataframe tbody tr th {\n",
       "        vertical-align: top;\n",
       "    }\n",
       "\n",
       "    .dataframe thead th {\n",
       "        text-align: right;\n",
       "    }\n",
       "</style>\n",
       "<table border=\"1\" class=\"dataframe\">\n",
       "  <thead>\n",
       "    <tr style=\"text-align: right;\">\n",
       "      <th></th>\n",
       "      <th>CreditScore</th>\n",
       "      <th>Age</th>\n",
       "      <th>Tenure</th>\n",
       "      <th>Balance</th>\n",
       "      <th>NumOfProducts</th>\n",
       "      <th>HasCrCard</th>\n",
       "      <th>IsActiveMember</th>\n",
       "      <th>EstimatedSalary</th>\n",
       "      <th>Exited</th>\n",
       "      <th>BalanceSalaryRatio</th>\n",
       "      <th>TenureByAge</th>\n",
       "      <th>CreditScoreGivenAge</th>\n",
       "    </tr>\n",
       "  </thead>\n",
       "  <tbody>\n",
       "    <tr>\n",
       "      <th>count</th>\n",
       "      <td>2509.000000</td>\n",
       "      <td>2509.000000</td>\n",
       "      <td>2509.000000</td>\n",
       "      <td>2509.000000</td>\n",
       "      <td>2509.000000</td>\n",
       "      <td>2509.00000</td>\n",
       "      <td>2509.000000</td>\n",
       "      <td>2509.000000</td>\n",
       "      <td>2509.000000</td>\n",
       "      <td>2509.000000</td>\n",
       "      <td>2509.000000</td>\n",
       "      <td>2509.000000</td>\n",
       "    </tr>\n",
       "    <tr>\n",
       "      <th>mean</th>\n",
       "      <td>651.453567</td>\n",
       "      <td>39.771622</td>\n",
       "      <td>5.009964</td>\n",
       "      <td>119730.116134</td>\n",
       "      <td>1.519729</td>\n",
       "      <td>0.71383</td>\n",
       "      <td>0.497409</td>\n",
       "      <td>101113.435102</td>\n",
       "      <td>0.324432</td>\n",
       "      <td>9.024870</td>\n",
       "      <td>0.134303</td>\n",
       "      <td>17.526487</td>\n",
       "    </tr>\n",
       "    <tr>\n",
       "      <th>std</th>\n",
       "      <td>98.168937</td>\n",
       "      <td>10.519143</td>\n",
       "      <td>2.935154</td>\n",
       "      <td>27022.006157</td>\n",
       "      <td>0.619420</td>\n",
       "      <td>0.45206</td>\n",
       "      <td>0.500093</td>\n",
       "      <td>58263.011501</td>\n",
       "      <td>0.468256</td>\n",
       "      <td>214.286020</td>\n",
       "      <td>0.087680</td>\n",
       "      <td>5.349558</td>\n",
       "    </tr>\n",
       "    <tr>\n",
       "      <th>min</th>\n",
       "      <td>350.000000</td>\n",
       "      <td>18.000000</td>\n",
       "      <td>0.000000</td>\n",
       "      <td>27288.430000</td>\n",
       "      <td>1.000000</td>\n",
       "      <td>0.00000</td>\n",
       "      <td>0.000000</td>\n",
       "      <td>11.580000</td>\n",
       "      <td>0.000000</td>\n",
       "      <td>0.192582</td>\n",
       "      <td>0.000000</td>\n",
       "      <td>6.112676</td>\n",
       "    </tr>\n",
       "    <tr>\n",
       "      <th>25%</th>\n",
       "      <td>584.000000</td>\n",
       "      <td>32.000000</td>\n",
       "      <td>2.000000</td>\n",
       "      <td>102800.720000</td>\n",
       "      <td>1.000000</td>\n",
       "      <td>0.00000</td>\n",
       "      <td>0.000000</td>\n",
       "      <td>51016.020000</td>\n",
       "      <td>0.000000</td>\n",
       "      <td>0.783284</td>\n",
       "      <td>0.060606</td>\n",
       "      <td>13.686275</td>\n",
       "    </tr>\n",
       "    <tr>\n",
       "      <th>50%</th>\n",
       "      <td>651.000000</td>\n",
       "      <td>38.000000</td>\n",
       "      <td>5.000000</td>\n",
       "      <td>119703.100000</td>\n",
       "      <td>1.000000</td>\n",
       "      <td>1.00000</td>\n",
       "      <td>0.000000</td>\n",
       "      <td>102397.220000</td>\n",
       "      <td>0.000000</td>\n",
       "      <td>1.197220</td>\n",
       "      <td>0.125000</td>\n",
       "      <td>16.857143</td>\n",
       "    </tr>\n",
       "    <tr>\n",
       "      <th>75%</th>\n",
       "      <td>722.000000</td>\n",
       "      <td>45.000000</td>\n",
       "      <td>8.000000</td>\n",
       "      <td>137560.380000</td>\n",
       "      <td>2.000000</td>\n",
       "      <td>1.00000</td>\n",
       "      <td>1.000000</td>\n",
       "      <td>151083.800000</td>\n",
       "      <td>1.000000</td>\n",
       "      <td>2.400083</td>\n",
       "      <td>0.200000</td>\n",
       "      <td>20.852941</td>\n",
       "    </tr>\n",
       "    <tr>\n",
       "      <th>max</th>\n",
       "      <td>850.000000</td>\n",
       "      <td>84.000000</td>\n",
       "      <td>10.000000</td>\n",
       "      <td>214346.960000</td>\n",
       "      <td>4.000000</td>\n",
       "      <td>1.00000</td>\n",
       "      <td>1.000000</td>\n",
       "      <td>199970.740000</td>\n",
       "      <td>1.000000</td>\n",
       "      <td>10614.655440</td>\n",
       "      <td>0.500000</td>\n",
       "      <td>46.388889</td>\n",
       "    </tr>\n",
       "  </tbody>\n",
       "</table>\n",
       "</div>"
      ],
      "text/plain": [
       "       CreditScore          Age       Tenure        Balance  NumOfProducts  \\\n",
       "count  2509.000000  2509.000000  2509.000000    2509.000000    2509.000000   \n",
       "mean    651.453567    39.771622     5.009964  119730.116134       1.519729   \n",
       "std      98.168937    10.519143     2.935154   27022.006157       0.619420   \n",
       "min     350.000000    18.000000     0.000000   27288.430000       1.000000   \n",
       "25%     584.000000    32.000000     2.000000  102800.720000       1.000000   \n",
       "50%     651.000000    38.000000     5.000000  119703.100000       1.000000   \n",
       "75%     722.000000    45.000000     8.000000  137560.380000       2.000000   \n",
       "max     850.000000    84.000000    10.000000  214346.960000       4.000000   \n",
       "\n",
       "        HasCrCard  IsActiveMember  EstimatedSalary       Exited  \\\n",
       "count  2509.00000     2509.000000      2509.000000  2509.000000   \n",
       "mean      0.71383        0.497409    101113.435102     0.324432   \n",
       "std       0.45206        0.500093     58263.011501     0.468256   \n",
       "min       0.00000        0.000000        11.580000     0.000000   \n",
       "25%       0.00000        0.000000     51016.020000     0.000000   \n",
       "50%       1.00000        0.000000    102397.220000     0.000000   \n",
       "75%       1.00000        1.000000    151083.800000     1.000000   \n",
       "max       1.00000        1.000000    199970.740000     1.000000   \n",
       "\n",
       "       BalanceSalaryRatio  TenureByAge  CreditScoreGivenAge  \n",
       "count         2509.000000  2509.000000          2509.000000  \n",
       "mean             9.024870     0.134303            17.526487  \n",
       "std            214.286020     0.087680             5.349558  \n",
       "min              0.192582     0.000000             6.112676  \n",
       "25%              0.783284     0.060606            13.686275  \n",
       "50%              1.197220     0.125000            16.857143  \n",
       "75%              2.400083     0.200000            20.852941  \n",
       "max          10614.655440     0.500000            46.388889  "
      ]
     },
     "metadata": {},
     "output_type": "display_data"
    }
   ],
   "source": [
    "# Создаем новые признаки\n",
    "churn_data['BalanceSalaryRatio'] = churn_data['Balance']/churn_data['EstimatedSalary']\n",
    "churn_data['TenureByAge'] = churn_data['Tenure']/churn_data['Age']\n",
    "churn_data['CreditScoreGivenAge'] = churn_data['CreditScore']/churn_data['Age']\n",
    "\n",
    "# Иcпользуем get_dummies для кодирования тестового признака Gender\n",
    "churn_data = pd.get_dummies(churn_data, drop_first=True)\n",
    "display(churn_data.head(3))\n",
    "\n",
    "# Выводим описательные характеристики получившегося датасета\n",
    "display(churn_data.describe())\n",
    "\n"
   ]
  },
  {
   "cell_type": "markdown",
   "id": "9cf0fd33",
   "metadata": {
    "id": "9cf0fd33"
   },
   "source": [
    "Разделим исходный набор данных на матрицу наблюдений `X` (фичи) и столбец ответов `y` (таргет). "
   ]
  },
  {
   "cell_type": "code",
   "execution_count": 9,
   "id": "a282c11f-485c-4148-be08-609ceee1cf8f",
   "metadata": {
    "id": "a282c11f-485c-4148-be08-609ceee1cf8f"
   },
   "outputs": [],
   "source": [
    "X = churn_data.drop(\"Exited\", axis=1)\n",
    "y = churn_data[\"Exited\"]"
   ]
  },
  {
   "cell_type": "markdown",
   "id": "d5c1b75a",
   "metadata": {
    "id": "d5c1b75a"
   },
   "source": [
    "Прежде чем перейти к этапу разделения выборки на тренировочную и тестовую, давайте посмотрим на сбалансированность данных. Для этого воспользуемся методом `value_counts()` и выведем количество наблюдений каждого из классов в долевом соотношении от общего количества наблюдений:"
   ]
  },
  {
   "cell_type": "code",
   "execution_count": 10,
   "id": "8940b979-7d39-4bf1-93b0-e1b41d7ed78b",
   "metadata": {
    "colab": {
     "base_uri": "https://localhost:8080/"
    },
    "executionInfo": {
     "elapsed": 1,
     "status": "ok",
     "timestamp": 1678085438382,
     "user": {
      "displayName": "Андрей Достоевский",
      "userId": "09718989537568551698"
     },
     "user_tz": -180
    },
    "id": "8940b979-7d39-4bf1-93b0-e1b41d7ed78b",
    "outputId": "a5f5b8c3-09d7-421c-e46f-2c024d77da2e"
   },
   "outputs": [
    {
     "data": {
      "text/plain": [
       "Exited\n",
       "0    0.675568\n",
       "1    0.324432\n",
       "Name: proportion, dtype: float64"
      ]
     },
     "execution_count": 10,
     "metadata": {},
     "output_type": "execute_result"
    }
   ],
   "source": [
    "y.value_counts(normalize=True)"
   ]
  },
  {
   "cell_type": "markdown",
   "id": "ef964f7a",
   "metadata": {
    "id": "ef964f7a"
   },
   "source": [
    "Очевидно, что классы не сбалансированы. Ушедших пользователей 32 %, в то время как лояльных — 68 %.\n"
   ]
  },
  {
   "cell_type": "markdown",
   "id": "bfeb6192",
   "metadata": {
    "id": "bfeb6192"
   },
   "source": [
    "**К чему это может привести?**\n",
    "\n",
    "При разделении набора данных на тренировочный и тестовый может возникнуть такая ситуация, что в тренировочную выборку попадут только лояльные клиенты или их большая часть. Тогда модель может не научиться определять вероятность оттока и качество на тестовой выборке будет неудовлетворительным.\n",
    "\n",
    "Или противоположная ситуация: в тестовую выборку попадут только лояльные клиенты. Тогда модель будет показывать отличное качество на тестовой выборке, но в реальных условиях она может оказаться бесполезной.\n",
    "\n",
    "То есть нам нужно сделать так, чтобы в тренировочной и тестовой выборке было одинаковое соотношение лояльных и ушедших клиентов. Такое разбиение выборки называется **стратифицированным**. \n",
    "\n",
    "Функция `train_test_split()` из библиотеки `sklearn` умеет производить такое разбиение. Для этого в ней предусмотрен параметр `stratify`, который нужно выставить в значение признака, который должен иметь одинаковые соотношения в тренировочной и тестовой выборке. У нас этот признак - это целевой признак y. \n",
    "\n",
    "Выполним разбиение, установив значение параметра `random_state` на 0:\n"
   ]
  },
  {
   "cell_type": "code",
   "execution_count": 11,
   "id": "8324900d-fd13-43b4-b025-5578d6e024ef",
   "metadata": {
    "colab": {
     "base_uri": "https://localhost:8080/"
    },
    "executionInfo": {
     "elapsed": 352,
     "status": "ok",
     "timestamp": 1678085440085,
     "user": {
      "displayName": "Андрей Достоевский",
      "userId": "09718989537568551698"
     },
     "user_tz": -180
    },
    "id": "8324900d-fd13-43b4-b025-5578d6e024ef",
    "outputId": "93fa8322-679a-4ec6-a8a2-10ce12d3e675"
   },
   "outputs": [
    {
     "name": "stdout",
     "output_type": "stream",
     "text": [
      "Train shape: (1881, 12)\n",
      "Test shape: (628, 12)\n"
     ]
    }
   ],
   "source": [
    "X_train, X_test, y_train, y_test = model_selection.train_test_split(\n",
    "    X, y, \n",
    "    stratify=y, \n",
    "    random_state=0\n",
    ")\n",
    "print('Train shape: {}'.format(X_train.shape))\n",
    "print('Test shape: {}'.format(X_test.shape))"
   ]
  },
  {
   "cell_type": "markdown",
   "id": "14b621e0",
   "metadata": {
    "id": "14b621e0"
   },
   "source": [
    "Проверим, что число лояльных и ушедших клиентов примерно одинаково в каждой из выборок:"
   ]
  },
  {
   "cell_type": "code",
   "execution_count": 12,
   "id": "1c34715f-9a79-490f-866a-72c596c6a0dd",
   "metadata": {
    "colab": {
     "base_uri": "https://localhost:8080/",
     "height": 191
    },
    "executionInfo": {
     "elapsed": 217,
     "status": "ok",
     "timestamp": 1678085441654,
     "user": {
      "displayName": "Андрей Достоевский",
      "userId": "09718989537568551698"
     },
     "user_tz": -180
    },
    "id": "1c34715f-9a79-490f-866a-72c596c6a0dd",
    "outputId": "dd6e6ced-54aa-4606-9798-cb276f0386b8"
   },
   "outputs": [
    {
     "name": "stdout",
     "output_type": "stream",
     "text": [
      "Train :\n"
     ]
    },
    {
     "data": {
      "text/plain": [
       "Exited\n",
       "0    0.675704\n",
       "1    0.324296\n",
       "Name: proportion, dtype: float64"
      ]
     },
     "metadata": {},
     "output_type": "display_data"
    },
    {
     "name": "stdout",
     "output_type": "stream",
     "text": [
      "\n",
      "\n",
      "Test :\n"
     ]
    },
    {
     "data": {
      "text/plain": [
       "Exited\n",
       "0    0.675159\n",
       "1    0.324841\n",
       "Name: proportion, dtype: float64"
      ]
     },
     "metadata": {},
     "output_type": "display_data"
    }
   ],
   "source": [
    "print('Train :')\n",
    "display(y_train.value_counts(normalize=True))\n",
    "print('\\n')\n",
    "print('Test :', )\n",
    "display(y_test.value_counts(normalize=True))"
   ]
  },
  {
   "cell_type": "markdown",
   "id": "76401ead",
   "metadata": {
    "id": "76401ead"
   },
   "source": [
    "Соотношения одинаковы, а значит, мы можем перейти к следующему шагу."
   ]
  },
  {
   "cell_type": "markdown",
   "id": "0f623386",
   "metadata": {
    "id": "0f623386"
   },
   "source": [
    "### Задание 5.2 (1 балл)\n",
    "\n",
    "Позаботьтесь о масштабировании признаков. Проведите нормализацию/стандартизацию матрицы наблюдений `X` с помощью `MinMaxScaler`/`RobustScaler` или `StandardScaler`. Выберите метод самостоятельно.\n",
    "\n",
    "Обучите один из предложенных скейлеров на тренировочной выборке (вычислите параметры трансформации) и примените трансформацию данных к тренировочной и тестовой выборкам."
   ]
  },
  {
   "cell_type": "markdown",
   "id": "dda27421",
   "metadata": {
    "id": "dda27421"
   },
   "source": [
    "**Критерии оценивания:**\n",
    "- Задание выполнено верно, учтены все условия (**1 балл**): \n",
    "    * приведён код для создания одного из вариантов скейлеров для масштабирования данных;\n",
    "    * приведён код для расчёта параметров трансформации (обучение скейлера) на тренировочной выборке;\n",
    "    * приведён код для трансформации тренировочных и тестовых данных (признаков) в соответствии с вычисленными параметрами.\n",
    "\n",
    "- Задание выполнено неверно, не учтено одно или несколько условий (**0 баллов**)."
   ]
  },
  {
   "cell_type": "code",
   "execution_count": 13,
   "id": "0e1f264e",
   "metadata": {
    "id": "0e1f264e"
   },
   "outputs": [
    {
     "name": "stdout",
     "output_type": "stream",
     "text": [
      "CreditScore :\n",
      "p-value = 0.000\n",
      "p-значение меньше, чем заданный уровень значимости 0.05. Распределение отлично от нормального\n",
      "----------------------------------------------------------------------------------------------------\n",
      "Age :\n",
      "p-value = 0.000\n",
      "p-значение меньше, чем заданный уровень значимости 0.05. Распределение отлично от нормального\n",
      "----------------------------------------------------------------------------------------------------\n",
      "Tenure :\n",
      "p-value = 0.000\n",
      "p-значение меньше, чем заданный уровень значимости 0.05. Распределение отлично от нормального\n",
      "----------------------------------------------------------------------------------------------------\n",
      "Balance :\n",
      "p-value = 0.002\n",
      "p-значение меньше, чем заданный уровень значимости 0.05. Распределение отлично от нормального\n",
      "----------------------------------------------------------------------------------------------------\n",
      "NumOfProducts :\n",
      "p-value = 0.000\n",
      "p-значение меньше, чем заданный уровень значимости 0.05. Распределение отлично от нормального\n",
      "----------------------------------------------------------------------------------------------------\n",
      "HasCrCard :\n",
      "p-value = 0.000\n",
      "p-значение меньше, чем заданный уровень значимости 0.05. Распределение отлично от нормального\n",
      "----------------------------------------------------------------------------------------------------\n",
      "IsActiveMember :\n",
      "p-value = 0.000\n",
      "p-значение меньше, чем заданный уровень значимости 0.05. Распределение отлично от нормального\n",
      "----------------------------------------------------------------------------------------------------\n",
      "EstimatedSalary :\n",
      "p-value = 0.000\n",
      "p-значение меньше, чем заданный уровень значимости 0.05. Распределение отлично от нормального\n",
      "----------------------------------------------------------------------------------------------------\n",
      "Exited :\n",
      "p-value = 0.000\n",
      "p-значение меньше, чем заданный уровень значимости 0.05. Распределение отлично от нормального\n",
      "----------------------------------------------------------------------------------------------------\n",
      "BalanceSalaryRatio :\n",
      "p-value = 0.000\n",
      "p-значение меньше, чем заданный уровень значимости 0.05. Распределение отлично от нормального\n",
      "----------------------------------------------------------------------------------------------------\n",
      "TenureByAge :\n",
      "p-value = 0.000\n",
      "p-значение меньше, чем заданный уровень значимости 0.05. Распределение отлично от нормального\n",
      "----------------------------------------------------------------------------------------------------\n",
      "CreditScoreGivenAge :\n",
      "p-value = 0.000\n",
      "p-значение меньше, чем заданный уровень значимости 0.05. Распределение отлично от нормального\n",
      "----------------------------------------------------------------------------------------------------\n",
      "Gender_Male :\n",
      "p-value = 0.000\n",
      "p-значение меньше, чем заданный уровень значимости 0.05. Распределение отлично от нормального\n",
      "----------------------------------------------------------------------------------------------------\n"
     ]
    }
   ],
   "source": [
    "# функция для принятия решения о нормальности\n",
    "def decision_normality(p):\n",
    "    print('p-value = {:.3f}'.format(p))\n",
    "    if p <= alpha:\n",
    "        print('p-значение меньше, чем заданный уровень значимости {:.2f}. Распределение отлично от нормального'.format(alpha))\n",
    "    else:\n",
    "        print('p-значение больше, чем заданный уровень значимости {:.2f}. Распределение является нормальным'.format(alpha))\n",
    "\n",
    "alpha = 0.05\n",
    "        \n",
    "# С помощью теста Шапиро-Уилка проверим, распределён ли признак нормально.\n",
    "for col in churn_data.columns:\n",
    "    result = stats.shapiro(churn_data[col])\n",
    "    print(col, ':')\n",
    "    decision_normality(result[1])\n",
    "    print('-'*100)"
   ]
  },
  {
   "cell_type": "markdown",
   "id": "13b87446",
   "metadata": {},
   "source": [
    "Все рассматриваемые признаки не распределены нормально, поэтому займемся их нормализацией. Поскольку мы не удаляли выбросы, оптимально будет использовать RobustScaler"
   ]
  },
  {
   "cell_type": "code",
   "execution_count": 14,
   "id": "6514a6cc",
   "metadata": {},
   "outputs": [],
   "source": [
    "scaler = preprocessing.RobustScaler()\n",
    "\n",
    "# Обучаем Scaler на тренировочной выборке\n",
    "scaler.fit(X_train)\n",
    "\n",
    "# Применяем трансформацию к тренировочной и тестовой выборкам\n",
    "X_train_scaled = scaler.transform(X_train)\n",
    "X_test_scaled = scaler.transform(X_test)\n"
   ]
  },
  {
   "cell_type": "markdown",
   "id": "66527b15",
   "metadata": {
    "id": "66527b15"
   },
   "source": [
    "Теперь переходим к моделированию."
   ]
  },
  {
   "cell_type": "markdown",
   "id": "69df2d66",
   "metadata": {
    "id": "69df2d66"
   },
   "source": [
    "### Задание 5.3 (1 балл)\n",
    "\n",
    "Для начала давайте заранее определим метрику, на которую будем ориентироваться. \n",
    "\n",
    "По условию задачи, наша модель должна своевременно предсказывать отток клиентов. Известно, что для сохранения клиентов банк будет использовать ресурсы колл-центра и клиентам, у которых вероятность оттока наиболее высока, будут сделаны специальные предложения. Ресурсы, выделяемые на сохранение клиентов, ограничены, поэтому нам важно минимизировать количество звонков. Однако в то же время необходимо сохранить как можно больше клиентов.\n",
    "\n",
    "Таким образом, нам бы хотелось минимизировать как ложноположительные и ложноотрицательные срабатывания модели.\n",
    "\n",
    "Какую метрику в данной задаче вы будете пытаться улучшить? Обоснуйте свой выбор. \n"
   ]
  },
  {
   "cell_type": "markdown",
   "id": "9c4e72a3",
   "metadata": {
    "id": "9c4e72a3"
   },
   "source": [
    "**Критерии оценивания:**\n",
    "- Задание выполнено верно, учтены все условия (**1 балл**): \n",
    "    * выбрана верная метрика;\n",
    "    * приведено развернутое обоснование выбора метрики, и приведенные рассуждения являются верными;\n",
    "\n",
    "- Задание выполнено неверно, не учтено одно или несколько условий (**0 баллов**)."
   ]
  },
  {
   "cell_type": "markdown",
   "id": "AOgaRpo53tgp",
   "metadata": {
    "id": "AOgaRpo53tgp"
   },
   "source": [
    " *В описанной задаче важно одновременно:*\n",
    "\n",
    "- *Минимизировать ложноположительные срабатывания — чтобы не тратить ресурсы колл-центра на клиентов, которые на самом деле не собираются уходить (снизить количество ненужных звонков). За это отвечается метрика precision*\n",
    "\n",
    "- *Минимизировать ложноотрицательные срабатывания — чтобы не пропустить клиентов с высоким риском оттока и сохранить их. За это отвечает метрика recall*.\n",
    "\n",
    "Таким образом, при ограниченных ресурсах важно найти баланс между ***precision*** и ***recall***, чтобы эффективно использовать колл-центр и максимально сохранить клиентов. Лучше всего с такой задачей справится ***F1-мера*** - гармоническое среднее между ***precision*** и ***recall***. ЕЕ максимум достигается, когда максимальны обе метрики.\n"
   ]
  },
  {
   "cell_type": "markdown",
   "id": "34e0666e",
   "metadata": {
    "id": "34e0666e"
   },
   "source": [
    "### Задание 5.4 (2 балла)\n",
    "\n",
    "Обучите модель логистической регрессии (`Logistic Regression`) на тренировочных данных. Позаботьтесь о воспроизводимости результата, установив конкретное значение параметра `random_state` (например, число 42).\n",
    "\n",
    "Сделайте предсказание меток классов для тренировочной и тестовой выборок. \n",
    "\n",
    "Рассчитайте значение целевой метрики на тренировочной и тестовой выборках. \n",
    "\n",
    "Проинтерпретируйте полученные результаты, ответив на следующий вопрос:\n",
    "* Как вы считаете, является ли ваша модель переобученной или недообученной?\n",
    "\n",
    "> **Примечание.** Будем считать, что модель нас не удовлетворяет (считается недообученной), если значение целевой метрики на тестовой выборке меньше 0.5.\n",
    "\n",
    "**Дополнительное задание:**\n",
    "\n",
    "Попробуйте поуправлять следующими параметрами модели:\n",
    "* `penalty` — тип используемой регуляризации ('l1' — $L_1$-регуляризация, 'l2' — $L_2$-регуляризация);\n",
    "* `C` — коэффициент, обратный коэффициенту регуляризации (по умолчанию он равен 1).\n",
    "\n",
    "Понаблюдайте, как ведут себя метрики в зависимости от типа регуляризации и увеличения/уменьшения значения парамера `C`."
   ]
  },
  {
   "cell_type": "markdown",
   "id": "8a1f5868",
   "metadata": {
    "id": "8a1f5868"
   },
   "source": [
    "**Критерии оценивания:**\n",
    "- Задание выполнено верно, учтены все условия (**2 балла**): \n",
    "    * построена модель логистической регрессии, решающая поставленную задачу;\n",
    "    * с помощью полученной модели сформированы предсказания на тренировочной и тестовой выборках;\n",
    "    * приведён расчёт выбранной метрики на тренировочных и тестовых данных (метрика должна быть выбрана корректно);\n",
    "    * приведён небольшой вывод по полученным результатам, в котором содержится ответ на поставленный в задании вопрос.\n",
    "\n",
    "- Задание выполнено верно, но не приведён вывод по полученным результатам или вывод является неверным (**1 балл**).\n",
    "- Задание выполнено неверно, не учтено несколько условий (**0 баллов**)."
   ]
  },
  {
   "cell_type": "code",
   "execution_count": 15,
   "id": "f47fa732",
   "metadata": {
    "id": "f47fa732"
   },
   "outputs": [
    {
     "name": "stdout",
     "output_type": "stream",
     "text": [
      "TRAIN -----------------------------------------------\n",
      "              precision    recall  f1-score   support\n",
      "\n",
      "           0       0.76      0.88      0.82      1271\n",
      "           1       0.63      0.43      0.51       610\n",
      "\n",
      "    accuracy                           0.73      1881\n",
      "   macro avg       0.70      0.65      0.66      1881\n",
      "weighted avg       0.72      0.73      0.72      1881\n",
      "\n",
      "TEST ------------------------------------------------\n",
      "              precision    recall  f1-score   support\n",
      "\n",
      "           0       0.76      0.87      0.81       424\n",
      "           1       0.60      0.42      0.50       204\n",
      "\n",
      "    accuracy                           0.72       628\n",
      "   macro avg       0.68      0.64      0.65       628\n",
      "weighted avg       0.71      0.72      0.71       628\n",
      "\n"
     ]
    }
   ],
   "source": [
    "#Создаем объект класса логистическая регрессия\n",
    "log_reg = linear_model.LogisticRegression(\n",
    "    random_state=42,\n",
    "    max_iter=1000    \n",
    ")\n",
    "#Обучаем модель, минимизируя logloss\n",
    "log_reg.fit(X_train_scaled, y_train)\n",
    "\n",
    "#Делаем предсказание для тренировочной выборки\n",
    "y_train_pred = log_reg.predict(X_train_scaled)\n",
    "#Вывод отчет о метриках классификации\n",
    "print('TRAIN '+'-'*47, metrics.classification_report(y_train, y_train_pred), sep='\\n')\n",
    "#Делаем предсказание для тестовой выборки\n",
    "y_test_pred = log_reg.predict(X_test_scaled)\n",
    "#Вывод отчет о метриках классификации\n",
    "print('TEST '+'-'*48, metrics.classification_report(y_test, y_test_pred), sep='\\n')"
   ]
  },
  {
   "cell_type": "markdown",
   "id": "9258c527",
   "metadata": {
    "id": "9258c527"
   },
   "source": [
    "Наша искомая метрика F1 на тестовых данных для категории ушедших клиентов (значение 1) выдает 0.50. По условию задачи, это считается удовлетворительным значением. К сожалению это значени не удалось улучшить с помощью регуляризации(подставлял разные значения C, но метрика становилась только ниже). Вероятно у данной модели нет переобучения, поэтому регуляризация не увеличила метрику. Думаю, дальше стоит поработать над оптимизацией порога классификации (*threshold*), а также попробовать усложнить саму модель."
   ]
  },
  {
   "cell_type": "markdown",
   "id": "e6709b8d",
   "metadata": {
    "id": "e6709b8d"
   },
   "source": [
    "### Задание 5.5 (2 балла)\n",
    "\n",
    "Сгенерируйте полиномиальные признаки третьей степени для тренировочной и тестовой выборок. Используйте класс `PolynomialFeatures` из библиотеки `sklearn`. Параметр `include_bias` выставите в значение `False`.\n",
    "\n",
    "> **Примечание.** Обратите внимание, что для генерации полиномов необходимо использовать масштабированные данные.\n",
    "\n",
    "Обучите модель логистической регрессии на полиномиальных признаках (`Logistic Regression`). Позаботьтесь о воспроизводимости результат, установив конкретное значение параметра `random_state` (например, число 42).\n",
    "\n",
    "Предскажите метки классов для тренировочной и тестовой выборок.\n",
    "\n",
    "Рассчитайте значение целевой метрики на тренировочной и тестовой выборках для модели, обученной на полиномиальных признаках.\n",
    "\n",
    "Сравните результат с полученным ранее. Удалось ли вам улучшить качество вашей модели?\n",
    "\n",
    "**Дополнительное задание:**\n",
    "\n",
    "Попробуйте поуправлять следующими параметрами модели:\n",
    "* `penalty` — тип используемой регуляризации ('l1' — $L_1$-регуляризация, 'l2' — $L_2$-регуляризация);\n",
    "* `C` — коэффициент, обратный коэффициенту регуляризации (по умолчанию он равен 1).\n",
    "\n",
    "Понаблюдайте, как ведут себя метрики в зависимости от типа регуляризации и увеличения/уменьшения значения парамера `C`."
   ]
  },
  {
   "cell_type": "markdown",
   "id": "af02d772",
   "metadata": {
    "id": "af02d772"
   },
   "source": [
    "**Критерии оценивания:**\n",
    "- Задание выполнено верно, учтены все условия (**2 балла**): \n",
    "    * сгенерированы полиномиальные признаки третьей степени;\n",
    "    * построена модель логистической регрессии, решающая поставленную задачу на основе сгенерированных признаков;\n",
    "    * с помощью полученной модели сформированы предсказания на тренировочной и тестовой выборках;\n",
    "    * приведён расчёт выбранной метрики на тренировочных и тестовых данных (метрика должна быть выбрана корректно);\n",
    "    * приведён небольшой вывод по полученным результатам, в котором содержится корректный ответ на поставленный в задании вопрос.\n",
    "\n",
    "- Задание выполнено верно, но не приведён вывод по полученным результатам или вывод является неверным (**1 балл**).\n",
    "- Задание выполнено неверно, не учтено несколько условий (**0 баллов**)."
   ]
  },
  {
   "cell_type": "code",
   "execution_count": 16,
   "id": "23315092",
   "metadata": {
    "id": "23315092"
   },
   "outputs": [
    {
     "name": "stdout",
     "output_type": "stream",
     "text": [
      "(1881, 454)\n",
      "(628, 454)\n"
     ]
    }
   ],
   "source": [
    "#Создаём генератор полиномиальных признаков\n",
    "poly = preprocessing.PolynomialFeatures(degree=3, include_bias=False)\n",
    "poly.fit(X_train_scaled)\n",
    "\n",
    "#Генерируем полиномиальные признаки для тренировочной выборки\n",
    "X_train_poly = poly.transform(X_train_scaled)\n",
    "\n",
    "#Генерируем полиномиальные признаки для тестовой выборки\n",
    "X_test_poly = poly.transform(X_test_scaled)\n",
    "\n",
    "#Выводим результирующие размерности таблиц\n",
    "print(X_train_poly.shape)\n",
    "print(X_test_poly.shape)"
   ]
  },
  {
   "cell_type": "code",
   "execution_count": 17,
   "id": "fb7fcd96",
   "metadata": {},
   "outputs": [
    {
     "name": "stdout",
     "output_type": "stream",
     "text": [
      "TRAIN -----------------------------------------------\n",
      "              precision    recall  f1-score   support\n",
      "\n",
      "           0       0.87      0.93      0.90      1271\n",
      "           1       0.82      0.71      0.76       610\n",
      "\n",
      "    accuracy                           0.86      1881\n",
      "   macro avg       0.85      0.82      0.83      1881\n",
      "weighted avg       0.85      0.86      0.85      1881\n",
      "\n",
      "TEST ------------------------------------------------\n",
      "              precision    recall  f1-score   support\n",
      "\n",
      "           0       0.82      0.87      0.85       424\n",
      "           1       0.70      0.61      0.65       204\n",
      "\n",
      "    accuracy                           0.79       628\n",
      "   macro avg       0.76      0.74      0.75       628\n",
      "weighted avg       0.78      0.79      0.78       628\n",
      "\n"
     ]
    }
   ],
   "source": [
    "import warnings # для игнорирования предупреждений\n",
    "#Игнорируем варнинги\n",
    "warnings.filterwarnings('ignore')\n",
    "\n",
    "#Создаем объект класса логистическая регрессия\n",
    "log_reg_poly = linear_model.LogisticRegression(\n",
    "    penalty='l2',\n",
    "    C=0.4,\n",
    "    random_state=42,\n",
    "    max_iter=10000    \n",
    ")\n",
    "#Обучаем модель, минимизируя logloss\n",
    "log_reg_poly.fit(X_train_poly, y_train)\n",
    "\n",
    "#Делаем предсказание для тренировочной выборки\n",
    "y_train_pred = log_reg_poly.predict(X_train_poly)\n",
    "#Вывод отчет о метриках классификации\n",
    "print('TRAIN '+'-'*47, metrics.classification_report(y_train, y_train_pred), sep='\\n')\n",
    "#Делаем предсказание для тестовой выборки\n",
    "y_test_pred = log_reg_poly.predict(X_test_poly)\n",
    "#Вывод отчет о метриках классификации\n",
    "print('TEST '+'-'*48, metrics.classification_report(y_test, y_test_pred), sep='\\n')"
   ]
  },
  {
   "cell_type": "markdown",
   "id": "4e7d4e3e",
   "metadata": {
    "id": "4e7d4e3e"
   },
   "source": [
    "При разных видах регуляризации и разных коэффициентах C получаются приблизительно одни и те же значения метрики F1 (0.76 на трейне и 0.65 на тесте для признака ушеднего клиента - 1). Отсутствие изменений F1 при варьировании C и типе регуляризации — признак того, что либо модель уже оптимальна для текущих данных, а также, что нам удалось избежать переобучения. Также заметно улучшение самой метрики с 0.5 для полинома первой степени - до 0.65 для полинома 3ей степени. Но усложнив модель (а у нас получилось более 450 признаков) мы увеличили время обучения модели."
   ]
  },
  {
   "cell_type": "markdown",
   "id": "8dc563a4",
   "metadata": {
    "id": "8dc563a4"
   },
   "source": [
    "### Задание 5.6. (2 балла)\n",
    "\n",
    "\n",
    "Попробуйте подобрать значение порога вероятности, при котором наблюдается наибольшее значение целевой метрики на тестовой выборке. В качестве модели используйте логистическую регрессию, обученную на полиномиальных признаках. \n",
    "\n",
    "В качестве порога вероятности используйте значения из следующего диапазона:\n",
    "\n",
    "`thresholds = np.arange(0.1, 1, 0.05)`\n",
    "\n",
    "Напомним алгоритм, как определить оптимальный порог вероятности:\n",
    "* Предсказать вероятности оттока для каждого клиента из тестовой выборки.\n",
    "* В цикле перебрать значения порогов вероятности threshold:\n",
    "    * Сделать предсказание класса по принципу: если вероятность > threshold, то отнести объект к классу 1, в противном случае — к классу 0.\n",
    "    * Рассчитать метрику и занести её в заранее созданный список.\n",
    "\n",
    "Для реализации алгоритма подбора вы можете воспользоваться шаблоном кода, приведённым ниже:\n",
    "\n",
    "```python\n",
    "# Делаем предсказание вероятности оттока для каждого клиента из тестовой выборки\n",
    "y_test_proba_pred = pd.Series(model.predict_proba(X_test_poly)[:, 1])\n",
    "# Инициализируем список, куда будем сохранять метрики.\n",
    "scores = []\n",
    "# Задаём значения порогов вероятности\n",
    "thresholds = np.arange(0.1, 1, 0.05)\n",
    "# В цикле перебираем значения порогов вероятности\n",
    "for threshold in thresholds:\n",
    "    # Делаем предсказание\n",
    "    y_test_pred_poly = y_test_proba_pred.apply(lambda x: 1 if x > threshold else 0)\n",
    "    # Рассчитываем метрику\n",
    "    score = # код для вычисления метрики\n",
    "    # Добавляем результат в список\n",
    "    scores.append(score)\n",
    "```\n",
    "\n",
    "Постройте график зависимости целевой метрики от порога вероятности. На основе построенного графика определите порог вероятности, которому соответствует наибольшее значение целевой метрики на тестовой выборке.\n",
    "\n",
    "Сделайте предсказание классов с подобранным оптимальным порогом вероятности. Рассчитайте значение целевой метрики на тестовой выборке и сравните результат с полученными ранее.\n"
   ]
  },
  {
   "cell_type": "markdown",
   "id": "efc4a3c0",
   "metadata": {
    "id": "efc4a3c0"
   },
   "source": [
    "**Критерии оценивания:**\n",
    "- Задание выполнено верно, учтены все условия (**2 балла**): \n",
    "    * приведён код для построения графика зависимости значения выбранной метрики от порога вероятности;\n",
    "    * найден оптимальный порог вероятности, на котором достигается наибольшее значение выбранной метрики на тестовой выборке;\n",
    "    * на основе найденного порога вероятности построено предсказание модели для тренировочной и тестовой выборок;\n",
    "    * приведён расчёт выбранной метрики на тренировочных и тестовых данных (метрика должна быть выбрана корректно).\n",
    "\n",
    "- Задание выполнено верно, но не приведён вывод по полученным результатам или вывод является неверным (**1 балл**).\n",
    "- Задание выполнено неверно, не учтено несколько условий (**0 баллов**)."
   ]
  },
  {
   "cell_type": "code",
   "execution_count": 18,
   "id": "oYs8-MFYSNxX",
   "metadata": {
    "id": "oYs8-MFYSNxX"
   },
   "outputs": [
    {
     "data": {
      "image/png": "[encoded data removed]",
      "text/plain": [
       "<Figure size 1000x400 with 1 Axes>"
      ]
     },
     "metadata": {},
     "output_type": "display_data"
    }
   ],
   "source": [
    "# Делаем предсказание вероятности оттока для каждого клиента из тестовой и тренировочнойвыборки\n",
    "y_train_proba_pred = log_reg_poly.predict_proba(X_train_poly)[:, 1]\n",
    "y_test_proba_pred = log_reg_poly.predict_proba(X_test_poly)[:, 1]\n",
    "# Инициализируем список, куда будем сохранять метрики.\n",
    "scores = []\n",
    "# Задаём значения порогов вероятности\n",
    "thresholds = np.arange(0.1, 1, 0.05)\n",
    "# В цикле перебираем значения порогов вероятности\n",
    "for threshold in thresholds:\n",
    "    # Делаем предсказание\n",
    "    y_test_pred_poly = (y_test_proba_pred > threshold).astype(int)\n",
    "    # Рассчитываем метрику\n",
    "    score = metrics.f1_score(y_test, y_test_pred_poly)# код для вычисления метрики\n",
    "    # Добавляем результат в список\n",
    "    scores.append(score)\n",
    "    \n",
    "\n",
    "#Визуализируем метрики при различных threshold\n",
    "fig, ax = plt.subplots(figsize=(10, 4)) #фигура + координатная плоскость\n",
    "\n",
    "#Строим линейный график зависимости F1 от threshold\n",
    "ax.plot(thresholds, scores, label='F1-score')\n",
    "\n",
    "#Даём названия графику и осям\n",
    "ax.set_title('F1 dependence on the threshold')\n",
    "ax.set_xlabel('Probability threshold')\n",
    "ax.set_ylabel('Score')\n",
    "#Устанавливаем отметки по оси x\n",
    "ax.set_xticks(thresholds)\n",
    "ax.set_yticks(np.arange(0.4, 0.75, 0.02)) \n",
    "#Отображаем легенду\n",
    "ax.xaxis.set_tick_params(rotation=60)\n",
    "ax.yaxis.set_tick_params(rotation=20)\n",
    "ax.grid(linestyle='-')\n",
    "ax.legend();"
   ]
  },
  {
   "cell_type": "markdown",
   "id": "04063ff7",
   "metadata": {},
   "source": [
    "Из полученного графика видно, что наибольшее значение на тестовых данных метрика F1 достигает при значении threshold равном 0.35"
   ]
  },
  {
   "cell_type": "code",
   "execution_count": 19,
   "id": "14cf34eb",
   "metadata": {},
   "outputs": [
    {
     "name": "stdout",
     "output_type": "stream",
     "text": [
      "TRAIN\n",
      "              precision    recall  f1-score   support\n",
      "\n",
      "           0       0.90      0.84      0.87      1271\n",
      "           1       0.71      0.81      0.76       610\n",
      "\n",
      "    accuracy                           0.83      1881\n",
      "   macro avg       0.81      0.83      0.82      1881\n",
      "weighted avg       0.84      0.83      0.84      1881\n",
      "\n",
      "TEST\n",
      "              precision    recall  f1-score   support\n",
      "\n",
      "           0       0.86      0.79      0.83       424\n",
      "           1       0.63      0.74      0.68       204\n",
      "\n",
      "    accuracy                           0.77       628\n",
      "   macro avg       0.75      0.76      0.75       628\n",
      "weighted avg       0.79      0.77      0.78       628\n",
      "\n"
     ]
    }
   ],
   "source": [
    "# Задаём оптимальный порог вероятностей\n",
    "threshold_opt = 0.35\n",
    "\n",
    "# Подставляем значение порога вероятности, равное 0.35\n",
    "y_train_pred_opt = (y_train_proba_pred > threshold_opt).astype(int)\n",
    "y_test_pred_opt = (y_test_proba_pred > threshold_opt).astype(int)\n",
    "\n",
    "#Вывод отчет о метриках классификации\n",
    "print('TRAIN', metrics.classification_report(y_train, y_train_pred_opt), sep='\\n')\n",
    "print('TEST', metrics.classification_report(y_test, y_test_pred_opt), sep='\\n')"
   ]
  },
  {
   "cell_type": "markdown",
   "id": "4174f981",
   "metadata": {},
   "source": [
    "С помощью различных преобразований модели и подбора оптимального порога вероятности нам удалось сократить разрыв между значениями метрики F1 для тренировочных и тестовых данных (для признака 1 - ушедший клиент). Разрыв для значений метрики около 8%(на трейне-  0.76, на тесте — 0.68) — это хороший результат, учитывая, что данные несбалансированы. Улучшение видно налицо - изначально искомая метрика была 0.5, а мы увелили ее до 0.68 на тестовых данных"
   ]
  },
  {
   "cell_type": "markdown",
   "id": "ae809d58",
   "metadata": {
    "id": "ae809d58"
   },
   "source": [
    "## Практика: деревья решений и случайный лес"
   ]
  },
  {
   "cell_type": "markdown",
   "id": "32dd8694",
   "metadata": {
    "id": "32dd8694"
   },
   "source": [
    "Мы продолжаем решать задачу прогнозирования оттока клиентов банка.\n",
    "\n",
    "Ранее мы построили модель логистической регрессии, затем добавили в модель полиномиальные признаки и подобрали оптимальный порог вероятности для логистической регрессии.\n",
    "\n",
    "> Теперь попробуем решить задачу с помощью деревьев решений и лесов.\n",
    "\n",
    "\n",
    "> **Примечание №1.** Для выполнения дальнейших заданий необходимо совершить уже знакомые шаги предобработки с данными об оттоке клиентов банка, а именно:\n",
    "* выделить данные, относящиеся к отделениям банка в Германии;\n",
    "* избавиться от заведомо неинформативных признаков;\n",
    "* расширить датасет путём добавления новых признаков;\n",
    "* разделить выборку на тренировочную и тестовую со стратификацией.\n",
    "\n",
    "> **Примечание №2.** Деревья решений — алгоритм, способный уловить нелинейные зависимости. Генерация полиномиальных признаков практически не имеет значения.\n",
    "Также деревья решений не чувствительны к масштабу признаков. Масштабирование исходных данных не играет роли при построении деревьев решения.\n",
    "Поэтому для решения задачи используйте обучающую (`X_train`, `y_train`) и тестовую (`X_test`, `y_test`) выборки без полиномиальных столбцов.\n"
   ]
  },
  {
   "cell_type": "code",
   "execution_count": 20,
   "id": "9fcfcba4",
   "metadata": {
    "colab": {
     "base_uri": "https://localhost:8080/"
    },
    "executionInfo": {
     "elapsed": 222,
     "status": "ok",
     "timestamp": 1678085972604,
     "user": {
      "displayName": "Андрей Достоевский",
      "userId": "09718989537568551698"
     },
     "user_tz": -180
    },
    "id": "9fcfcba4",
    "outputId": "90611fd6-1306-46fe-ea78-cd6f8a5ae2ce"
   },
   "outputs": [
    {
     "name": "stdout",
     "output_type": "stream",
     "text": [
      "Train shape: (1881, 12)\n",
      "Test shape: (628, 12)\n"
     ]
    }
   ],
   "source": [
    "X_train, X_test, y_train, y_test = model_selection.train_test_split(\n",
    "    X, y, \n",
    "    stratify=y, \n",
    "    random_state=0\n",
    ")\n",
    "print('Train shape: {}'.format(X_train.shape))\n",
    "print('Test shape: {}'.format(X_test.shape))"
   ]
  },
  {
   "cell_type": "markdown",
   "id": "48LgpXuJt_nL",
   "metadata": {
    "id": "48LgpXuJt_nL"
   },
   "source": [
    "Импортируем необходимые для выполнения практики модули:"
   ]
  },
  {
   "cell_type": "code",
   "execution_count": 21,
   "id": "4b23febd-6403-4b0a-a024-28f27c240729",
   "metadata": {
    "id": "4b23febd-6403-4b0a-a024-28f27c240729"
   },
   "outputs": [],
   "source": [
    "from sklearn import tree\n",
    "from sklearn import ensemble"
   ]
  },
  {
   "cell_type": "markdown",
   "id": "4r3hncEEfx8T",
   "metadata": {
    "id": "4r3hncEEfx8T"
   },
   "source": [
    "Приступим! Выполните задания 8.1–8.4."
   ]
  },
  {
   "cell_type": "markdown",
   "id": "b57000af",
   "metadata": {
    "id": "b57000af"
   },
   "source": [
    "### Задание 8.1. (2 балла)\n",
    "\n",
    "Обучите на тренировочной выборке дерево решений из библиотеки `sklearn` (`DecisionTreeClassifier`) с неограниченной максимальной глубиной дерева. В качестве критерия информативности используйте энтропию Шеннона, остальные параметры оставьте по умолчанию. \n",
    "\n",
    "Также позаботьтесь о воспроизводимости результатов, установив конкретное  значение `random_state` (например, число 42). \n",
    "\n",
    "Сделайте предсказания для тренировочной и тестовой выборок. Рассчитайте значение целевой метрики на каждой из выборок.\n",
    "\n",
    "Сделайте вывод, ответив на вопрос:\n",
    "* Как вы считаете, является полученная модель переобученной или недообученной? Попробуйте дать обоснование, почему так происходит.\n"
   ]
  },
  {
   "cell_type": "markdown",
   "id": "52fdb449",
   "metadata": {
    "id": "52fdb449"
   },
   "source": [
    "**Критерии оценивания:**\n",
    "- Задание выполнено верно, учтены все условия (**2 балла**): \n",
    "    * построена модель дерева решений с заданными в условии задачи параметрами;\n",
    "    * с помощью полученной модели сформированы предсказания для тренировочной и тестовой выборок;\n",
    "    * приведён расчёт выбранной метрики на тренировочных и тестовых данных (метрика должна быть выбрана корректно);\n",
    "    * приведён небольшой вывод по полученным результатам, в котором содержится корректный ответ на поставленный в задании вопрос, а также обоснование полученного результата.\n",
    "\n",
    "- Задание выполнено верно, но не приведено обоснование полученного результата или обоснование является некорректным (**1 балл**).\n",
    "- Задание выполнено неверно, не учтено несколько условий (**0 баллов**)."
   ]
  },
  {
   "cell_type": "code",
   "execution_count": 22,
   "id": "59a61357",
   "metadata": {
    "id": "59a61357"
   },
   "outputs": [
    {
     "name": "stdout",
     "output_type": "stream",
     "text": [
      "F1-мера на тренировочной выборке: 1.00\n",
      "F1-мера на тестовой выборке: 0.53\n"
     ]
    }
   ],
   "source": [
    "# Создадим объект класса DecisionTreeClassifier()\n",
    "tree_model = tree.DecisionTreeClassifier(\n",
    "    criterion='entropy',\n",
    "    random_state=42\n",
    ")\n",
    "\n",
    "# Обучем модель\n",
    "tree_model.fit(X_train, y_train)\n",
    "\n",
    "# Делаем предсказание\n",
    "y_pred_train = tree_model.predict(X_train)\n",
    "y_pred_test = tree_model.predict(X_test)\n",
    "\n",
    "# Вычисляем метрики\n",
    "print(f'F1-мера на тренировочной выборке: {metrics.f1_score(y_train, y_pred_train):.2f}')\n",
    "print(f'F1-мера на тестовой выборке: {metrics.f1_score(y_test, y_pred_test):.2f}')"
   ]
  },
  {
   "cell_type": "markdown",
   "id": "40d5e039",
   "metadata": {
    "id": "40d5e039"
   },
   "source": [
    "*Вывод: модель сильно переобучена.*\n",
    "- F1 на тренировке равен 1, что является максимально возможным значением. Это говорит о том, что модель идеально, запомнила тренировочные данные.\n",
    "\n",
    "- На тестовых данных метрика равна 0.52, что кстати близко к значению для самой первой модели линейной регрессии. Такая большая разница между метриками для трейна и для теста показывает, что модель плохо обобщается на новые, невидимые данные.\n",
    "\n",
    "*Такое поведение модели характерно для переобучения, когда модель «запоминает» шум и детали тренировочной выборки, вместо того чтобы выучить общие закономерности.*"
   ]
  },
  {
   "cell_type": "markdown",
   "id": "ab0187f6",
   "metadata": {
    "id": "ab0187f6"
   },
   "source": [
    "### Задание 8.2. (1 балл)\n",
    "\n",
    "Давайте «подстрижём» наше дерево. \n",
    "\n",
    "Обучите на тренировочной выборке дерево решений из библиотеки `sklearn` (`DecisionTreeClassifier`) с максимальной глубиной 8. В качестве критерия информативности используйте энтропию Шеннона, минимальное число объектов в листе (количество объектов, при которых дерево прекратит делиться и образуется лист) — 10.\n",
    "\n",
    "Также позаботьтесь о воспроизводимости результатов, установив конкретное значение `random_state` (например, число 42).\n",
    "\n",
    "Сделайте предсказания для тренировочной и тестовой выборок. Рассчитайте значение целевой метрики на каждой из выборок.\n",
    "\n",
    "Сравните результат с полученными ранее. Сделайте вывод.\n"
   ]
  },
  {
   "cell_type": "markdown",
   "id": "4216b9ca",
   "metadata": {
    "id": "4216b9ca"
   },
   "source": [
    "**Критерии оценивания:**\n",
    "- Задание выполнено верно, учтены все условия (**1 балла**): \n",
    "    * построена модель дерева решений с заданными в условии задачи параметрами;\n",
    "    * с помощью полученной модели сформированы предсказания для тренировочной и тестовой выборок;\n",
    "    * приведён расчёт выбранной метрики на тренировочных и тестовых данных (метрика должна быть выбрана корректно);\n",
    "    * приведён небольшой вывод по полученным результатам, в котором содержится корректный ответ на поставленный в задании вопрос.\n",
    "\n",
    "- Задание выполнено неверно, не учтено одно или несколько условий (**0 баллов**)."
   ]
  },
  {
   "cell_type": "code",
   "execution_count": 23,
   "id": "ab6e8060",
   "metadata": {
    "id": "ab6e8060"
   },
   "outputs": [
    {
     "name": "stdout",
     "output_type": "stream",
     "text": [
      "F1-мера на тренировочной выборке: 0.72\n",
      "F1-мера на тестовой выборке: 0.65\n"
     ]
    }
   ],
   "source": [
    "# Создадим объект класса DecisionTreeClassifier()\n",
    "tree_model_v2 = tree.DecisionTreeClassifier(\n",
    "    criterion='entropy',\n",
    "    random_state=42,\n",
    "    max_depth=8, # глубина\n",
    "    min_samples_leaf=10 # минимальное число объектов в листе\n",
    ")\n",
    "\n",
    "# Обучем модель\n",
    "tree_model_v2.fit(X_train, y_train)\n",
    "\n",
    "# Делаем предсказание\n",
    "y_pred_train = tree_model_v2.predict(X_train)\n",
    "y_pred_test = tree_model_v2.predict(X_test)\n",
    "\n",
    "# Вычисляем метрики\n",
    "print(f'F1-мера на тренировочной выборке: {metrics.f1_score(y_train, y_pred_train):.2f}')\n",
    "print(f'F1-мера на тестовой выборке: {metrics.f1_score(y_test, y_pred_test):.2f}')"
   ]
  },
  {
   "cell_type": "markdown",
   "id": "0d9a4222",
   "metadata": {
    "id": "0d9a4222"
   },
   "source": [
    "Вывод: \n",
    "* После добавления дополнительных параметров в модель дерева решений удалось добиться более сбалансированных результатов. Разница между метрикой на тесте и на трейне невелика, поэтому можно сделать вывод, что на этот раз нам удалось избежать переобучения модели.\n",
    "* На тесте мы получили такую же метрику, что и в задании 5.5, равную 0.65. Но в случае с линейной регрессией мы сделали куда больше преобразований, чтобы получить такие результаты. Тем более, что метрика на трейне у линейной регрессии получилась немного больше (0.76 против 0.72). Это может говорить о том, что с такими данными для решения этой задачи больше подходит метод Дерева Решений.\n",
    "* Добавив всего 2 параметра в модель мы смогли увеличить тестовую метрику с 0.53 до 0.65. Это существенное улучшение. Тем более, что для нашей задачи метрика, большая или равная 0.5, уже считается удовлетворительным результатом."
   ]
  },
  {
   "cell_type": "markdown",
   "id": "2a37fe23",
   "metadata": {
    "id": "2a37fe23"
   },
   "source": [
    "### Задание 8.3. (1 балл)\n",
    "\n",
    "Давайте воспользуемся случайным лесом. \n",
    "\n",
    "Постройте случайный лес (`RandomForestClassifier`) из 500 деревьев с максимальной глубиной 8. Критерий информативности — энтропия Шеннона, минимальное число объектов в листе (количество объектов, при которых дерево прекратит делиться и образуется лист) — 10.\n",
    "\n",
    "Также позаботьтесь о воспроизводимости результатов, установив конкретное значение значение `random_state` (например, число 42).\n",
    "\n",
    "Сделайте предсказания для тренировочной и тестовой выборок. Рассчитайте значение целевой метрики на каждой из выборок.\n",
    "\n",
    "Сравните качество одного дерева решений с качеством случайного леса на тестовой выборке. Смогли ли вы улучшить метрику?\n"
   ]
  },
  {
   "cell_type": "markdown",
   "id": "0277e1e0",
   "metadata": {
    "id": "0277e1e0"
   },
   "source": [
    "**Критерии оценивания:**\n",
    "- Задание выполнено верно, учтены все условия (**1 балл**): \n",
    "    * построена модель дерева решений с заданными в условии задачи параметрами;\n",
    "    * с помощью полученной модели сформированы предсказания для тренировочной и тестовой выборок;\n",
    "    * приведён расчёт выбранной метрики на тренировочных и тестовых данных (метрика должна быть выбрана корректно);\n",
    "    * приведён небольшой вывод по полученным результатам, в котором содержится корректный ответ на поставленный в задании вопрос.\n",
    "\n",
    "- Задание выполнено неверно, не учтено одно или несколько условий (**0 баллов**)."
   ]
  },
  {
   "cell_type": "code",
   "execution_count": 24,
   "id": "a7a08886",
   "metadata": {
    "id": "a7a08886"
   },
   "outputs": [
    {
     "name": "stdout",
     "output_type": "stream",
     "text": [
      "F1-мера на тренировочной выборке: 0.73\n",
      "F1-мера на тестовой выборке: 0.64\n"
     ]
    }
   ],
   "source": [
    "forest_model = ensemble.RandomForestClassifier(\n",
    "    n_estimators=500,  # число деревьев   \n",
    "    max_depth=8, # глубина\n",
    "    criterion='entropy', # критерий информативности\n",
    "    min_samples_leaf=10, # минимальное число объектов в листе\n",
    "    random_state=42\n",
    ")\n",
    "\n",
    "# Обучем модель\n",
    "forest_model.fit(X_train, y_train)\n",
    "\n",
    "# Делаем предсказание\n",
    "y_pred_train = forest_model.predict(X_train)\n",
    "y_pred_test = forest_model.predict(X_test)\n",
    "\n",
    "# Вычисляем метрики\n",
    "print(f'F1-мера на тренировочной выборке: {metrics.f1_score(y_train, y_pred_train):.2f}')\n",
    "print(f'F1-мера на тестовой выборке: {metrics.f1_score(y_test, y_pred_test):.2f}')"
   ]
  },
  {
   "cell_type": "markdown",
   "id": "80cfd760",
   "metadata": {
    "id": "80cfd760"
   },
   "source": [
    "В целом, показатели остались примерно на том же уровне, что говорит о том, что ансамбль Random Forest стабилен и не приводит к значительному переобучению.\n",
    "Усложнив модель, мы рассчитывали на улучшение тестовой метрики, но она даже немного понизилась. Это значит, что модель для одиночного дерева решений весьма хорошо справилась со своей задачей и избежала серьезного переобучения, поскольку ансамбль Random Forest в виду своей структуры не должен сильно переобучаться, а метрики этиъ моделей практически идентичны."
   ]
  },
  {
   "cell_type": "markdown",
   "id": "f65b1d5d",
   "metadata": {
    "id": "f65b1d5d"
   },
   "source": [
    "### Задание 8.4. (2 балла)\n",
    "\n",
    "Мы на финишной прямой. \n",
    "\n",
    "\n",
    "Попробуйте подобрать значение порога вероятности, при котором наблюдается наибольшее значение целевой метрики на тестовой выборке. **Используйте ту модель (из рассмотренных ранее), которая показала наилучшее качество на тестовой выборке.**\n",
    "\n",
    "\n",
    "В качестве порога вероятности используйте значения из следующего диапазона:\n",
    "\n",
    "`thresholds = np.arange(0.1, 1, 0.05)`\n",
    "\n",
    "Напомним алгоритм, как определить оптимальный порог вероятности:\n",
    "* Предсказать вероятности оттока для каждого клиента из тестовой выборки.\n",
    "* В цикле перебрать значения порогов вероятности threshold:\n",
    "    * Сделать предсказание класса по принципу: если вероятность > threshold, то отнести объект к классу 1, в противном случае — к классу 0.\n",
    "    * Рассчитать метрику и занести её в заранее созданный список. \n",
    "\n",
    "Для реализации алгоритма подбора вы можете воспользоваться шаблоном кода, приведённым ниже:\n",
    "\n",
    "```python\n",
    "# Делаем предсказание вероятности оттока для каждого клиента из тестовой выборки\n",
    "y_test_proba_pred = pd.Series(model.predict_proba(X_test_poly)[:, 1])\n",
    "# Инициализируем список, куда будем сохранять метрики.\n",
    "scores = []\n",
    "# Задаём значения порогов вероятности\n",
    "thresholds = np.arange(0.1, 1, 0.05)\n",
    "# В цикле перебираем значения порогов вероятности\n",
    "for threshold in thresholds:\n",
    "    # Делаем предсказание\n",
    "    y_test_pred_poly = y_test_proba_pred.apply(lambda x: 1 if x > threshold else 0)\n",
    "    # Рассчитываем метрику\n",
    "    score = # код для вычисления метрики\n",
    "    # Добавляем результат в список\n",
    "    scores.append(score)\n",
    "```\n",
    "\n",
    "Постройте график зависимости целевой метрики от порога вероятности. На основе построенного графика определите порог вероятности, которому соответствует наибольшее значение целевой метрики на тестовой выборке.\n",
    "\n",
    "Сделайте предсказание классов с подобранным оптимальным порогом вероятности. Рассчитайте значение целевой метрики на тестовой выборке и сравните полученный результат с полученными ранее. \n",
    "\n",
    "Напишите небольшой вывод о проделанной работе, указав в нём, какая из рассмотренных нами моделей показала наилучший результат.\n",
    "\n",
    "> **Примечание.** Помните о том, что в реальных задачах (а мы решали задачу на реальных данных) мы практически никогда не сможем получить значения метрик, близкие к 1. Если в задаче прогнозирования оттока ваша метрика превышает хотя бы значения 0.6-0.7, вашу модель уже можно считать хорошей и можно говорить о том, что она успешно справляется с задачей."
   ]
  },
  {
   "cell_type": "code",
   "execution_count": 25,
   "id": "a5578584",
   "metadata": {
    "id": "a5578584"
   },
   "outputs": [
    {
     "data": {
      "image/png": "[encoded data removed]",
      "text/plain": [
       "<Figure size 1000x600 with 1 Axes>"
      ]
     },
     "metadata": {},
     "output_type": "display_data"
    }
   ],
   "source": [
    "# Задаём значения порогов вероятности\n",
    "thresholds = np.arange(0.1, 1, 0.05)\n",
    "\n",
    "# Предсказанные вероятности для модели дерева решений\n",
    "y_test_proba_tree = tree_model_v2.predict_proba(X_test)[:, 1]\n",
    "scores_tree = []\n",
    "for threshold in thresholds:\n",
    "    y_test_pred = (y_test_proba_tree > threshold).astype(int)\n",
    "    score = metrics.f1_score(y_test, y_test_pred)\n",
    "    scores_tree.append(score)\n",
    "\n",
    "# Предсказанные вероятности для модели случайного леса\n",
    "y_test_proba_forest = forest_model.predict_proba(X_test)[:, 1]\n",
    "scores_forest = []\n",
    "for threshold in thresholds:\n",
    "    y_test_pred = (y_test_proba_forest > threshold).astype(int)\n",
    "    score = metrics.f1_score(y_test, y_test_pred)\n",
    "    scores_forest.append(score)\n",
    "\n",
    "# Создаём фигуру и одну координатную плоскость\n",
    "fig, ax = plt.subplots(figsize=(10, 6))\n",
    "\n",
    "# Строим графики с разными цветами и метками для легенды\n",
    "ax.plot(thresholds, scores_tree, color='blue', label='Модель дерева решений', linewidth=2)\n",
    "ax.plot(thresholds, scores_forest, color='red', label='Модель ансамбля случайного леса', linewidth=2)\n",
    "\n",
    "# Настраиваем оси и сетку\n",
    "ax.set_title('Зависимость F1-Score от порога вероятности')\n",
    "ax.set_xlabel('Порог вероятности')\n",
    "ax.set_ylabel('F1-Score')\n",
    "ax.set_xticks(thresholds)\n",
    "ax.set_yticks(np.arange(0.2, 0.75, 0.05))\n",
    "ax.xaxis.set_tick_params(rotation=45)\n",
    "ax.yaxis.set_tick_params(rotation=30)\n",
    "ax.grid(linestyle='--')\n",
    "ax.legend();"
   ]
  },
  {
   "cell_type": "code",
   "execution_count": 26,
   "id": "e161121a",
   "metadata": {},
   "outputs": [
    {
     "name": "stdout",
     "output_type": "stream",
     "text": [
      "TRAIN -----------------------------------------------\n",
      "              precision    recall  f1-score   support\n",
      "\n",
      "           0       0.90      0.86      0.88      1271\n",
      "           1       0.73      0.80      0.76       610\n",
      "\n",
      "    accuracy                           0.84      1881\n",
      "   macro avg       0.81      0.83      0.82      1881\n",
      "weighted avg       0.84      0.84      0.84      1881\n",
      "\n",
      "TEST ------------------------------------------------\n",
      "              precision    recall  f1-score   support\n",
      "\n",
      "           0       0.87      0.78      0.82       424\n",
      "           1       0.63      0.76      0.69       204\n",
      "\n",
      "    accuracy                           0.78       628\n",
      "   macro avg       0.75      0.77      0.76       628\n",
      "weighted avg       0.79      0.78      0.78       628\n",
      "\n"
     ]
    }
   ],
   "source": [
    "# Задаём оптимальный порог вероятностей\n",
    "threshold_opt = 0.35\n",
    "y_train_proba_forest = forest_model.predict_proba(X_train)[:, 1]\n",
    "y_test_proba_forest = forest_model.predict_proba(X_test)[:, 1]\n",
    "\n",
    "# Подставляем значение порога вероятности, равное 0.35\n",
    "y_train_pred_opt = (y_train_proba_forest > threshold_opt).astype(int)\n",
    "y_test_pred_opt = (y_test_proba_forest > threshold_opt).astype(int)\n",
    "\n",
    "#Вывод отчет о метриках классификации\n",
    "print('TRAIN '+'-'*47, metrics.classification_report(y_train, y_train_pred_opt), sep='\\n')\n",
    "print('TEST '+'-'*48, metrics.classification_report(y_test, y_test_pred_opt), sep='\\n')"
   ]
  },
  {
   "cell_type": "markdown",
   "id": "088365d3",
   "metadata": {
    "id": "088365d3"
   },
   "source": [
    "Поскольку метрики по моделям древа решений и ансамбля случайного леса были очень близкими, то я принял решения визуализировать оба варианта, и это оказалось правильным решением. При стандартном значении порога вероятности, равным 0.5, значения метрик, действительно очень близки. Но также видно, что максимальное значение метрики для модели древа решений не превышает 0.65, когда как у ансамбля максимум приблизительно равен 0.7 и он достигается при значении порога вероятности, равному 0.35. Получается, что при усложнении модели и правильном выборе порога вероятности, нам все-таки удалось увеличить значение $F_1$-метрики."
   ]
  },
  {
   "cell_type": "markdown",
   "id": "lRcIEe0uutOC",
   "metadata": {
    "id": "lRcIEe0uutOC"
   },
   "source": [
    "### Задание 8.5. (1 балл)\n",
    "\n",
    "Наконец, финальная задача.\n",
    "\n",
    "У нашего банка есть некоторый клиент, назовём его Василием. В базе данных банка хранятся следующие данные о Василии:\n",
    "\n",
    "```python\n",
    "{\n",
    "    'CreditScore': [601.0],\n",
    "    'Gender': ['Male'],\n",
    "    'Age': [42.0],\n",
    "    'Tenure': [1.0],\n",
    "    'Balance': [98495.72],\n",
    "    'NumOfProducts': [1.0],\n",
    "    'HasCrCard': [1.0],\n",
    "    'IsActiveMember': [0.0],\n",
    "    'EstimatedSalary': [40014.76]\n",
    "}\n",
    "```\n",
    "\n",
    "С помощью наилучшей модели спрогнозируйте вероятность того, что Василий откажется от услуг банка.\n",
    "\n",
    "> **Примечание.** Учтите, что для предсказания необходимо преобразовать данные к тому формату, на котором обучалась модель, то есть:\n",
    "* добавить признаки дополнительные признаки; \n",
    "* произвести кодирование категориальных признаков;\n",
    "* произвести масштабирование признаков (если ваша модель обучалась на масштабированных данных) с помощью того же скейлера, который вы использовали при обучении модели;\n",
    "* сгенерировать полиномиальные признаки."
   ]
  },
  {
   "cell_type": "markdown",
   "id": "Y2zispyJ1qgQ",
   "metadata": {
    "id": "Y2zispyJ1qgQ"
   },
   "source": [
    "**Критерии оценивания:**\n",
    "- Задание выполнено верно, учтены все условия (**1 балл**): \n",
    "    * сформирован DataFrame на основе предоставленного словаря;\n",
    "    * произведены преобразования данных, необходимые для работы модели;\n",
    "    * предсказана вероятность оттока клиента (вероятность принадлежности к классу 1).\n",
    "\n",
    "- Задание выполнено неверно, не учтено одно или несколько условий (**0 баллов**)."
   ]
  },
  {
   "cell_type": "markdown",
   "id": "39679457",
   "metadata": {},
   "source": [
    "*Поскольку метрики, которые мы получили в заданиях 5.6 и 8.4 достаточно близки, то сделаем предсказание обеими моделями: для полиномиальной линейной регрессии и для ансамбля случайного леса, а после сравним их.*"
   ]
  },
  {
   "cell_type": "code",
   "execution_count": 27,
   "id": "8AY25O3t1-CS",
   "metadata": {
    "id": "8AY25O3t1-CS"
   },
   "outputs": [
    {
     "name": "stdout",
     "output_type": "stream",
     "text": [
      "Вектор вероятностей для клиента Василия от модели ансамбля случайного леса: [[0.38 0.62]]\n",
      "Вектор вероятностей для клиента Василия от модели полиномиальной линейной регрессии: [[0.44 0.56]]\n"
     ]
    }
   ],
   "source": [
    "Vasya_data = pd.DataFrame({\n",
    "    'CreditScore': [601.0],\n",
    "    'Gender': ['Male'],\n",
    "    'Age': [42.0],\n",
    "    'Tenure': [1.0],\n",
    "    'Balance': [98495.72],\n",
    "    'NumOfProducts': [1.0],\n",
    "    'HasCrCard': [1.0],\n",
    "    'IsActiveMember': [0.0],\n",
    "    'EstimatedSalary': [40014.76]\n",
    "})\n",
    "\n",
    "# Создаем новые признаки\n",
    "Vasya_data['BalanceSalaryRatio'] = Vasya_data['Balance']/Vasya_data['EstimatedSalary']\n",
    "Vasya_data['TenureByAge'] = Vasya_data['Tenure']/Vasya_data['Age']\n",
    "Vasya_data['CreditScoreGivenAge'] = Vasya_data['CreditScore']/Vasya_data['Age']\n",
    "# Иcпользуем get_dummies для кодирования тестового признака Gender\n",
    "Vasya_data = pd.get_dummies(Vasya_data)\n",
    "\n",
    "# Произведем нормализацию\n",
    "Vasya_data_scaled = scaler.transform(Vasya_data)\n",
    "Vasya_data_poly = poly.transform(Vasya_data_scaled)\n",
    "\n",
    "y_forest_predict_proba = np.round(forest_model.predict_proba(Vasya_data),2)\n",
    "y_poly_predict_proba = np.round(log_reg_poly.predict_proba(Vasya_data_poly),2)\n",
    "\n",
    "print(f'Вектор вероятностей для клиента Василия от модели ансамбля случайного леса: {y_forest_predict_proba}')\n",
    "print(f'Вектор вероятностей для клиента Василия от модели полиномиальной линейной регрессии: {y_poly_predict_proba}')\n"
   ]
  },
  {
   "cell_type": "markdown",
   "id": "b439d9b2",
   "metadata": {},
   "source": [
    "*Наши модели имеют приблизительно одинаковые вектора вероятностей для клиента Василия. Но все же у первой вероятности чуть более отдалены от 0.5*"
   ]
  },
  {
   "cell_type": "code",
   "execution_count": 28,
   "id": "24be68fd",
   "metadata": {},
   "outputs": [
    {
     "name": "stdout",
     "output_type": "stream",
     "text": [
      "По мнению модели ансамбля случайного леса клиент Василий откажется от услуг банка\n",
      "По мнению модели полиномиальной регрессии клиент Василий откажется от услуг банка\n"
     ]
    }
   ],
   "source": [
    "y_forest_predict = forest_model.predict(Vasya_data)\n",
    "y_poly_predict = log_reg_poly.predict(Vasya_data_poly)\n",
    "\n",
    "def check_exite(result, model_name):\n",
    "    if int(result)==1:\n",
    "        print(f'По мнению {model_name} клиент Василий откажется от услуг банка')\n",
    "    else:\n",
    "        print(f'По мнению {model_name} клиент продолжит пользоваться услугами банка')\n",
    "        \n",
    "check_exite(y_forest_predict, 'модели ансамбля случайного леса')\n",
    "check_exite(y_poly_predict, 'модели полиномиальной регрессии')\n"
   ]
  },
  {
   "cell_type": "markdown",
   "id": "5cab5d7b",
   "metadata": {},
   "source": [
    "*Обе модели сделали один и тот же вывод о том, что данный клиент перестанет пользоваться услугами банка. Это значит, что сотрудникам колл-центра стоит уделить ему внимание и сделать предложение, которое побудит его остаться.*"
   ]
  },
  {
   "cell_type": "code",
   "execution_count": 29,
   "id": "c3f9eeb0",
   "metadata": {},
   "outputs": [
    {
     "name": "stdout",
     "output_type": "stream",
     "text": [
      "По мнению линейной регресиии клиент продолжит пользоваться услугами банка\n",
      "По мнению модели древа решений клиент Василий откажется от услуг банка\n",
      "По мнению модели древа решений 2ой версии клиент Василий откажется от услуг банка\n"
     ]
    }
   ],
   "source": [
    "# Посмотрим также на предсказания других моделей из практической работы\n",
    "\n",
    "check_exite(log_reg.predict(Vasya_data_scaled), 'линейной регресиии')\n",
    "check_exite(tree_model.predict(Vasya_data), 'модели древа решений')\n",
    "check_exite(tree_model_v2.predict(Vasya_data), 'модели древа решений 2ой версии')"
   ]
  },
  {
   "cell_type": "markdown",
   "id": "17bf26e9",
   "metadata": {},
   "source": [
    "Как мы видим, все модели, кроме самой первой, смогли предсказать отток клиента"
   ]
  }
 ],
 "metadata": {
  "colab": {
   "provenance": []
  },
  "kernelspec": {
   "display_name": "Python 3",
   "language": "python",
   "name": "python3"
  },
  "language_info": {
   "codemirror_mode": {
    "name": "ipython",
    "version": 3
   },
   "file_extension": ".py",
   "mimetype": "text/x-python",
   "name": "python",
   "nbconvert_exporter": "python",
   "pygments_lexer": "ipython3",
   "version": "3.9.10"
  }
 },
 "nbformat": 4,
 "nbformat_minor": 5
}
