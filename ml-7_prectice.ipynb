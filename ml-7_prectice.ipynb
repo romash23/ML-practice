{
 "cells": [
  {
   "cell_type": "markdown",
   "id": "964afdab",
   "metadata": {},
   "source": [
    "### <center> КРИТЕРИИ ОЦЕНКИ\n",
    "- 0\tЗадание не выполнено\n",
    "- 1\tОбучено две модели; гипепараметры подобраны при помощи одного метода\n",
    "- 2\tОбучено две модели; гипепараметры подобраны при помощи двух методов\n",
    "- 3\tОбучено две модели; гипепараметры подобраны при помощи трёх методов\n",
    "- 4\tОбучено две модели; гипепараметры подобраны при помощи четырёх методов\n",
    "- 5\tОбучено две модели; гипепараметры подобраны при помощи четырёх методов; использована кросс-валидация"
   ]
  },
  {
   "cell_type": "code",
   "execution_count": 1,
   "id": "03702caf",
   "metadata": {},
   "outputs": [
    {
     "data": {
      "text/html": [
       "<div>\n",
       "<style scoped>\n",
       "    .dataframe tbody tr th:only-of-type {\n",
       "        vertical-align: middle;\n",
       "    }\n",
       "\n",
       "    .dataframe tbody tr th {\n",
       "        vertical-align: top;\n",
       "    }\n",
       "\n",
       "    .dataframe thead th {\n",
       "        text-align: right;\n",
       "    }\n",
       "</style>\n",
       "<table border=\"1\" class=\"dataframe\">\n",
       "  <thead>\n",
       "    <tr style=\"text-align: right;\">\n",
       "      <th></th>\n",
       "      <th>Activity</th>\n",
       "      <th>D1</th>\n",
       "      <th>D2</th>\n",
       "      <th>D3</th>\n",
       "      <th>D4</th>\n",
       "      <th>D5</th>\n",
       "      <th>D6</th>\n",
       "      <th>D7</th>\n",
       "      <th>D8</th>\n",
       "      <th>D9</th>\n",
       "      <th>...</th>\n",
       "      <th>D1767</th>\n",
       "      <th>D1768</th>\n",
       "      <th>D1769</th>\n",
       "      <th>D1770</th>\n",
       "      <th>D1771</th>\n",
       "      <th>D1772</th>\n",
       "      <th>D1773</th>\n",
       "      <th>D1774</th>\n",
       "      <th>D1775</th>\n",
       "      <th>D1776</th>\n",
       "    </tr>\n",
       "  </thead>\n",
       "  <tbody>\n",
       "    <tr>\n",
       "      <th>0</th>\n",
       "      <td>1</td>\n",
       "      <td>0.000000</td>\n",
       "      <td>0.497009</td>\n",
       "      <td>0.10</td>\n",
       "      <td>0.0</td>\n",
       "      <td>0.132956</td>\n",
       "      <td>0.678031</td>\n",
       "      <td>0.273166</td>\n",
       "      <td>0.585445</td>\n",
       "      <td>0.743663</td>\n",
       "      <td>...</td>\n",
       "      <td>0</td>\n",
       "      <td>0</td>\n",
       "      <td>0</td>\n",
       "      <td>0</td>\n",
       "      <td>0</td>\n",
       "      <td>0</td>\n",
       "      <td>0</td>\n",
       "      <td>0</td>\n",
       "      <td>0</td>\n",
       "      <td>0</td>\n",
       "    </tr>\n",
       "    <tr>\n",
       "      <th>1</th>\n",
       "      <td>1</td>\n",
       "      <td>0.366667</td>\n",
       "      <td>0.606291</td>\n",
       "      <td>0.05</td>\n",
       "      <td>0.0</td>\n",
       "      <td>0.111209</td>\n",
       "      <td>0.803455</td>\n",
       "      <td>0.106105</td>\n",
       "      <td>0.411754</td>\n",
       "      <td>0.836582</td>\n",
       "      <td>...</td>\n",
       "      <td>1</td>\n",
       "      <td>1</td>\n",
       "      <td>1</td>\n",
       "      <td>1</td>\n",
       "      <td>0</td>\n",
       "      <td>1</td>\n",
       "      <td>0</td>\n",
       "      <td>0</td>\n",
       "      <td>1</td>\n",
       "      <td>0</td>\n",
       "    </tr>\n",
       "    <tr>\n",
       "      <th>2</th>\n",
       "      <td>1</td>\n",
       "      <td>0.033300</td>\n",
       "      <td>0.480124</td>\n",
       "      <td>0.00</td>\n",
       "      <td>0.0</td>\n",
       "      <td>0.209791</td>\n",
       "      <td>0.610350</td>\n",
       "      <td>0.356453</td>\n",
       "      <td>0.517720</td>\n",
       "      <td>0.679051</td>\n",
       "      <td>...</td>\n",
       "      <td>0</td>\n",
       "      <td>0</td>\n",
       "      <td>0</td>\n",
       "      <td>0</td>\n",
       "      <td>0</td>\n",
       "      <td>0</td>\n",
       "      <td>0</td>\n",
       "      <td>0</td>\n",
       "      <td>0</td>\n",
       "      <td>0</td>\n",
       "    </tr>\n",
       "    <tr>\n",
       "      <th>3</th>\n",
       "      <td>1</td>\n",
       "      <td>0.000000</td>\n",
       "      <td>0.538825</td>\n",
       "      <td>0.00</td>\n",
       "      <td>0.5</td>\n",
       "      <td>0.196344</td>\n",
       "      <td>0.724230</td>\n",
       "      <td>0.235606</td>\n",
       "      <td>0.288764</td>\n",
       "      <td>0.805110</td>\n",
       "      <td>...</td>\n",
       "      <td>0</td>\n",
       "      <td>0</td>\n",
       "      <td>0</td>\n",
       "      <td>0</td>\n",
       "      <td>0</td>\n",
       "      <td>0</td>\n",
       "      <td>0</td>\n",
       "      <td>0</td>\n",
       "      <td>0</td>\n",
       "      <td>0</td>\n",
       "    </tr>\n",
       "    <tr>\n",
       "      <th>4</th>\n",
       "      <td>0</td>\n",
       "      <td>0.100000</td>\n",
       "      <td>0.517794</td>\n",
       "      <td>0.00</td>\n",
       "      <td>0.0</td>\n",
       "      <td>0.494734</td>\n",
       "      <td>0.781422</td>\n",
       "      <td>0.154361</td>\n",
       "      <td>0.303809</td>\n",
       "      <td>0.812646</td>\n",
       "      <td>...</td>\n",
       "      <td>0</td>\n",
       "      <td>0</td>\n",
       "      <td>0</td>\n",
       "      <td>0</td>\n",
       "      <td>0</td>\n",
       "      <td>0</td>\n",
       "      <td>0</td>\n",
       "      <td>0</td>\n",
       "      <td>0</td>\n",
       "      <td>0</td>\n",
       "    </tr>\n",
       "  </tbody>\n",
       "</table>\n",
       "<p>5 rows × 1777 columns</p>\n",
       "</div>"
      ],
      "text/plain": [
       "   Activity        D1        D2    D3   D4        D5        D6        D7   \n",
       "0         1  0.000000  0.497009  0.10  0.0  0.132956  0.678031  0.273166  \\\n",
       "1         1  0.366667  0.606291  0.05  0.0  0.111209  0.803455  0.106105   \n",
       "2         1  0.033300  0.480124  0.00  0.0  0.209791  0.610350  0.356453   \n",
       "3         1  0.000000  0.538825  0.00  0.5  0.196344  0.724230  0.235606   \n",
       "4         0  0.100000  0.517794  0.00  0.0  0.494734  0.781422  0.154361   \n",
       "\n",
       "         D8        D9  ...  D1767  D1768  D1769  D1770  D1771  D1772  D1773   \n",
       "0  0.585445  0.743663  ...      0      0      0      0      0      0      0  \\\n",
       "1  0.411754  0.836582  ...      1      1      1      1      0      1      0   \n",
       "2  0.517720  0.679051  ...      0      0      0      0      0      0      0   \n",
       "3  0.288764  0.805110  ...      0      0      0      0      0      0      0   \n",
       "4  0.303809  0.812646  ...      0      0      0      0      0      0      0   \n",
       "\n",
       "   D1774  D1775  D1776  \n",
       "0      0      0      0  \n",
       "1      0      1      0  \n",
       "2      0      0      0  \n",
       "3      0      0      0  \n",
       "4      0      0      0  \n",
       "\n",
       "[5 rows x 1777 columns]"
      ]
     },
     "execution_count": 1,
     "metadata": {},
     "output_type": "execute_result"
    }
   ],
   "source": [
    "import pandas as pd\n",
    "import numpy as np\n",
    "\n",
    "from sklearn.model_selection import train_test_split, cross_val_score\n",
    "from sklearn.model_selection import RandomizedSearchCV, GridSearchCV\n",
    "from sklearn.linear_model import LogisticRegression\n",
    "from sklearn.ensemble import RandomForestClassifier\n",
    "from sklearn.metrics import f1_score\n",
    "\n",
    "import optuna\n",
    "import hyperopt\n",
    "from hyperopt import hp, fmin, tpe, Trials\n",
    "\n",
    "import matplotlib.pyplot as plt\n",
    "\n",
    "from scipy.stats import loguniform\n",
    "\n",
    "RANDOM_STATE = 42\n",
    "\n",
    "data = pd.read_csv('data/_train_sem09 (1).csv')\n",
    "data.head()"
   ]
  },
  {
   "cell_type": "code",
   "execution_count": 2,
   "id": "edfe0479",
   "metadata": {},
   "outputs": [
    {
     "data": {
      "image/png": "[encoded data removed]",
      "text/plain": [
       "<Figure size 640x480 with 1 Axes>"
      ]
     },
     "metadata": {},
     "output_type": "display_data"
    }
   ],
   "source": [
    "X = data.drop('Activity', axis=1)\n",
    "y = data['Activity']\n",
    "\n",
    "plt.pie(y.value_counts(normalize=True),\n",
    "        labels=y.value_counts().index,\n",
    "        autopct='%1.1f%%')\n",
    "\n",
    "plt.title('Распределение классов Activity')\n",
    "plt.legend();"
   ]
  },
  {
   "cell_type": "markdown",
   "id": "7bc2ce14",
   "metadata": {},
   "source": [
    "Из визуализации видим, что соотношение примерно одинаковое, стратифицировать выборки не будем"
   ]
  },
  {
   "cell_type": "code",
   "execution_count": 3,
   "id": "db0bd183",
   "metadata": {},
   "outputs": [],
   "source": [
    "X_train, X_test, y_train, y_test = train_test_split(X, y, random_state=RANDOM_STATE, test_size=0.2)"
   ]
  },
  {
   "cell_type": "markdown",
   "id": "65a3f733",
   "metadata": {},
   "source": [
    "## *Модель логистической регрессии*"
   ]
  },
  {
   "cell_type": "code",
   "execution_count": 4,
   "id": "61dad814",
   "metadata": {},
   "outputs": [],
   "source": [
    "import warnings\n",
    "warnings.filterwarnings('ignore')\n"
   ]
  },
  {
   "cell_type": "code",
   "execution_count": 5,
   "id": "bf2d4510",
   "metadata": {},
   "outputs": [
    {
     "name": "stdout",
     "output_type": "stream",
     "text": [
      "Модель выдает F1-score на тренировочной выборке 0.885\n",
      "Модель выдает F1-score на тестовой выборке 0.785\n"
     ]
    }
   ],
   "source": [
    "# Посмотрим на метрику без оптимизации гиперпараметров: \n",
    "\n",
    "logistic_model = LogisticRegression()\n",
    "logistic_model.fit(X_train, y_train)\n",
    "\n",
    "y_train_pred = logistic_model.predict(X_train)\n",
    "y_test_pred = logistic_model.predict(X_test)\n",
    "\n",
    "log_score_train_0 = round(f1_score(y_train, y_train_pred),3)\n",
    "log_score_test_0 = round(f1_score(y_test, y_test_pred), 3)\n",
    "\n",
    "print(f'Модель выдает F1-score на тренировочной выборке {log_score_train_0}')\n",
    "print(f'Модель выдает F1-score на тестовой выборке {log_score_test_0}')"
   ]
  },
  {
   "cell_type": "markdown",
   "id": "d5cdfccf",
   "metadata": {},
   "source": [
    "### *GridSearchCV*"
   ]
  },
  {
   "cell_type": "code",
   "execution_count": 6,
   "id": "cf992d71",
   "metadata": {},
   "outputs": [
    {
     "name": "stdout",
     "output_type": "stream",
     "text": [
      "Модель выдает F1-score на тренировочной выборке 0.874\n",
      "Модель выдает F1-score на тестовой выборке 0.781\n",
      "Наилучшие значения гиперпараметров: {'C': 1, 'penalty': 'l1', 'solver': 'liblinear'}\n"
     ]
    }
   ],
   "source": [
    "param_grid = [\n",
    "    {\n",
    "        'solver': ['liblinear'],\n",
    "        'penalty': ['l1', 'l2'],\n",
    "        'C': [0.01, 1, 100]\n",
    "    },\n",
    "    {\n",
    "        'solver': ['lbfgs'],\n",
    "        'penalty': ['l2'],\n",
    "        'C': [0.01, 1, 100, 1000]\n",
    "    }\n",
    "]\n",
    "\n",
    "logistic_model = LogisticRegression(random_state=RANDOM_STATE, max_iter=200)\n",
    "\n",
    "grid_search = GridSearchCV(\n",
    "            estimator=logistic_model,\n",
    "            param_grid=param_grid,\n",
    "            cv=5, # активируем кросс-валидацию\n",
    "            n_jobs=-1)\n",
    "\n",
    "grid_search.fit(X_train, y_train) \n",
    "\n",
    "y_train_pred = grid_search.predict(X_train)\n",
    "y_test_pred = grid_search.predict(X_test)\n",
    "\n",
    "log_score_train_1 = round(f1_score(y_train, y_train_pred),3)\n",
    "log_score_test_1 = round(f1_score(y_test, y_test_pred), 3)\n",
    "\n",
    "print(f'Модель выдает F1-score на тренировочной выборке {log_score_train_1}')\n",
    "print(f'Модель выдает F1-score на тестовой выборке {log_score_test_1}')\n",
    "\n",
    "print(\"Наилучшие значения гиперпараметров: {}\".format(grid_search.best_params_))"
   ]
  },
  {
   "cell_type": "markdown",
   "id": "9679fc69",
   "metadata": {},
   "source": [
    "### *RandomizedSearchCV* "
   ]
  },
  {
   "cell_type": "code",
   "execution_count": 7,
   "id": "c1b85c62",
   "metadata": {},
   "outputs": [
    {
     "name": "stdout",
     "output_type": "stream",
     "text": [
      "Модель выдает F1-score на тренировочной выборке 0.845\n",
      "Модель выдает F1-score на тестовой выборке 0.792\n",
      "Наилучшие значения гиперпараметров: {'C': 0.06014971666566227, 'penalty': 'l2', 'solver': 'lbfgs'}\n"
     ]
    }
   ],
   "source": [
    "# Пространство гиперпараметров\n",
    "param_distributions = {\n",
    "    'solver': ['liblinear', 'lbfgs', 'saga'],\n",
    "    'penalty': ['l1', 'l2'], \n",
    "    'C': loguniform(1e-4, 1e4)  # Логарифмическое распределение для C\n",
    "}\n",
    "\n",
    "logistic_model = LogisticRegression(random_state=RANDOM_STATE, max_iter=200)\n",
    "\n",
    "random_search = RandomizedSearchCV(\n",
    "    estimator=logistic_model,\n",
    "    param_distributions=param_distributions,\n",
    "    n_iter=10,  # всего 10 случайных комбинаций\n",
    "    cv=5,       # кросс валидация на 5 фолдов\n",
    "    n_jobs=-1)\n",
    "\n",
    "random_search.fit(X_train, y_train)\n",
    "\n",
    "y_train_pred = random_search.predict(X_train)\n",
    "y_test_pred = random_search.predict(X_test)\n",
    "\n",
    "log_score_train_2 = round(f1_score(y_train, y_train_pred),3)\n",
    "log_score_test_2 = round(f1_score(y_test, y_test_pred), 3)\n",
    "\n",
    "print(f'Модель выдает F1-score на тренировочной выборке {log_score_train_2}')\n",
    "print(f'Модель выдает F1-score на тестовой выборке {log_score_test_2}')\n",
    "\n",
    "print(\"Наилучшие значения гиперпараметров: {}\".format(random_search.best_params_))\n"
   ]
  },
  {
   "cell_type": "markdown",
   "id": "7c44ea42",
   "metadata": {},
   "source": [
    "### *Hyperopt*"
   ]
  },
  {
   "cell_type": "code",
   "execution_count": 8,
   "id": "80416570",
   "metadata": {},
   "outputs": [],
   "source": [
    "# создадим простаранство гиперпараметров\n",
    "\n",
    "space = {\n",
    "    'solver': hp.choice('solver', ['liblinear', 'lbfgs', 'saga']),\n",
    "    'penalty': hp.choice('penalty', ['l1', 'l2']),\n",
    "    'C': hp.loguniform('C', -4, 4),  # эквивалентно диапазону от ~0.018 до ~54.6\n",
    "}"
   ]
  },
  {
   "cell_type": "code",
   "execution_count": 9,
   "id": "f75498ec",
   "metadata": {},
   "outputs": [],
   "source": [
    "def hyperopt_log_reg(params, cv=5, X=X_train, y=y_train, random_state=RANDOM_STATE):\n",
    "    # функция получает комбинацию гиперпараметров в \"params\"\n",
    "    params = {'solver': params['solver'], \n",
    "              'penalty': params['penalty'],\n",
    "              'C': params['C']\n",
    "              }\n",
    "  \n",
    "    # Создадим словарь с допустимыми penalty для каждого solver\n",
    "    correct_penalties = {\n",
    "        'lbfgs': ['l2'],\n",
    "        'newton-cg': ['l2'],\n",
    "        'saga': ['l1', 'l2'],\n",
    "        'liblinear': ['l1', 'l2']\n",
    "    }\n",
    "    \n",
    "    # штрафуем недопустимую комбинацию максимальным значением\n",
    "    if params['penalty'] not in correct_penalties.get(params['solver'], []):\n",
    "        return 1  \n",
    "\n",
    "    logistic_model = LogisticRegression(**params,\n",
    "                                        random_state=RANDOM_STATE,\n",
    "                                        max_iter=200)\n",
    "    \n",
    "    # Обучаем модель на кросс валидации и сразу считаем score\n",
    "    score = cross_val_score(logistic_model, X, y, cv=cv, scoring=\"f1\", n_jobs=-1).mean()\n",
    "\n",
    "    # метрику необходимо минимизировать, поэтому ставим знак минус\n",
    "    return -score"
   ]
  },
  {
   "cell_type": "code",
   "execution_count": 10,
   "id": "9299b370",
   "metadata": {},
   "outputs": [
    {
     "name": "stderr",
     "output_type": "stream",
     "text": [
      "TPE is being used as the default algorithm.\n"
     ]
    },
    {
     "name": "stdout",
     "output_type": "stream",
     "text": [
      "100%|██████████| 10/10 [02:02<00:00, 12.29s/trial, best loss: -0.7854601824470312]\n",
      "Наилучшие значения гиперпараметров {'C': 0.06641667456492358, 'penalty': 1, 'solver': 2}\n"
     ]
    }
   ],
   "source": [
    "# начинаем подбор гиперпараметров\n",
    "\n",
    "trials = Trials() # используется для логирования результатов\n",
    "\n",
    "best = fmin(hyperopt_log_reg, # наша функция \n",
    "          space=space, # пространство гиперпараметров\n",
    "          max_evals=10, # максимальное количество итераций\n",
    "          trials=trials, # логирование результатов\n",
    "          rstate = np.random.default_rng(RANDOM_STATE))\n",
    "\n",
    "print(\"Наилучшие значения гиперпараметров {}\".format(best))"
   ]
  },
  {
   "cell_type": "code",
   "execution_count": 11,
   "id": "58b805ff",
   "metadata": {},
   "outputs": [
    {
     "name": "stdout",
     "output_type": "stream",
     "text": [
      "Модель выдает F1-score на тренировочной выборке 0.845\n",
      "Модель выдает F1-score на тестовой выборке 0.793\n"
     ]
    }
   ],
   "source": [
    "# Поскольку в словаре best для penalty и solver хранятся именно индексы, то придется немного заморочиться\n",
    "\n",
    "solver_options = ['liblinear', 'lbfgs', 'saga']\n",
    "penalty_options = ['l1', 'l2']\n",
    "\n",
    "solver = solver_options[best['solver']]  \n",
    "penalty = penalty_options[best['penalty']] \n",
    "\n",
    "# рассчитаем F1 для тренировочной и тестовой выборок\n",
    "logistic_model = LogisticRegression(\n",
    "    random_state = RANDOM_STATE, \n",
    "    solver = solver,\n",
    "    penalty = penalty,\n",
    "    C = float(best['C']),\n",
    "    max_iter=200)\n",
    "\n",
    "logistic_model.fit(X_train, y_train)\n",
    "\n",
    "y_train_pred = logistic_model.predict(X_train)\n",
    "y_test_pred = logistic_model.predict(X_test)\n",
    "\n",
    "log_score_train_3 = round(f1_score(y_train, y_train_pred),3)\n",
    "log_score_test_3 = round(f1_score(y_test, y_test_pred), 3)\n",
    "\n",
    "print(f'Модель выдает F1-score на тренировочной выборке {log_score_train_3}')\n",
    "print(f'Модель выдает F1-score на тестовой выборке {log_score_test_3}')"
   ]
  },
  {
   "cell_type": "markdown",
   "id": "6c09e4bb",
   "metadata": {},
   "source": [
    "### *Optuna*"
   ]
  },
  {
   "cell_type": "code",
   "execution_count": 12,
   "id": "e06f1c03",
   "metadata": {},
   "outputs": [],
   "source": [
    "def optuna_log_reg(trial, cv=5, X=X_train, y=y_train, random_state=RANDOM_STATE):\n",
    "    \n",
    "    # задаем пространства поиска гиперпараметров\n",
    "    solver = trial.suggest_categorical('solver', ['liblinear', 'lbfgs', 'saga'])\n",
    "    penalty = trial.suggest_categorical('penalty', ['l1', 'l2'])\n",
    "    C = trial.suggest_float('C', 1e-4, 1e4, log=True) # эквивалентно диапазону от ~0.018 до ~54.6\n",
    "\n",
    "    # Создадим словарь с допустимыми penalty для каждого solver\n",
    "    correct_penalties = {\n",
    "        'lbfgs': ['l2'],\n",
    "        'newton-cg': ['l2'],\n",
    "        'saga': ['l1', 'l2'],\n",
    "        'liblinear': ['l1', 'l2']\n",
    "    }\n",
    "    \n",
    "    # Возвращаем плохое значение, чтобы Optuna не выбирал эту комбинацию\n",
    "    if penalty not in correct_penalties.get(solver, []):\n",
    "        return - 1\n",
    "\n",
    "    logistic_model = LogisticRegression(solver=solver,\n",
    "                                        penalty=penalty,\n",
    "                                        random_state=RANDOM_STATE,\n",
    "                                        max_iter=200)\n",
    "        \n",
    "    # Обучаем модель на кросс валидации и сразу считаем score\n",
    "    score = cross_val_score(logistic_model, X, y, cv=cv, scoring=\"f1\", n_jobs=-1).mean()\n",
    "    \n",
    "    return score\n",
    "  "
   ]
  },
  {
   "cell_type": "code",
   "execution_count": 13,
   "id": "d1c57beb",
   "metadata": {},
   "outputs": [
    {
     "name": "stderr",
     "output_type": "stream",
     "text": [
      "[I 2025-07-02 19:14:58,926] A new study created in memory with name: LogisticRegression\n",
      "[I 2025-07-02 19:14:58,926] Trial 0 finished with value: -1.0 and parameters: {'solver': 'lbfgs', 'penalty': 'l1', 'C': 22.171976287605283}. Best is trial 0 with value: -1.0.\n",
      "[I 2025-07-02 19:15:00,042] Trial 1 finished with value: 0.7714512595300139 and parameters: {'solver': 'liblinear', 'penalty': 'l2', 'C': 30.274567319298715}. Best is trial 1 with value: 0.7714512595300139.\n",
      "[I 2025-07-02 19:15:01,176] Trial 2 finished with value: 0.7714512595300139 and parameters: {'solver': 'liblinear', 'penalty': 'l2', 'C': 0.00013709022241741736}. Best is trial 1 with value: 0.7714512595300139.\n",
      "[I 2025-07-02 19:15:22,017] Trial 3 finished with value: 0.780742572778411 and parameters: {'solver': 'saga', 'penalty': 'l1', 'C': 0.09919077478263028}. Best is trial 3 with value: 0.780742572778411.\n",
      "[I 2025-07-02 19:15:22,019] Trial 4 finished with value: -1.0 and parameters: {'solver': 'lbfgs', 'penalty': 'l1', 'C': 0.2547661793055485}. Best is trial 3 with value: 0.780742572778411.\n",
      "[I 2025-07-02 19:15:23,108] Trial 5 finished with value: 0.7714512595300139 and parameters: {'solver': 'liblinear', 'penalty': 'l2', 'C': 2.3250257824005516}. Best is trial 3 with value: 0.780742572778411.\n",
      "[I 2025-07-02 19:15:24,117] Trial 6 finished with value: 0.7809050807974567 and parameters: {'solver': 'liblinear', 'penalty': 'l1', 'C': 0.011653135355796283}. Best is trial 6 with value: 0.7809050807974567.\n",
      "[I 2025-07-02 19:15:25,259] Trial 7 finished with value: 0.7714512595300139 and parameters: {'solver': 'liblinear', 'penalty': 'l2', 'C': 0.0006657616380223738}. Best is trial 6 with value: 0.7809050807974567.\n",
      "[I 2025-07-02 19:15:26,326] Trial 8 finished with value: 0.7714512595300139 and parameters: {'solver': 'liblinear', 'penalty': 'l2', 'C': 0.5834889454667028}. Best is trial 6 with value: 0.7809050807974567.\n",
      "[I 2025-07-02 19:15:29,426] Trial 9 finished with value: 0.7723036054390015 and parameters: {'solver': 'lbfgs', 'penalty': 'l2', 'C': 22.1031055214591}. Best is trial 6 with value: 0.7809050807974567.\n"
     ]
    },
    {
     "name": "stdout",
     "output_type": "stream",
     "text": [
      "----------------------------------------\n",
      "Наилучшие значения гиперпараметров {'solver': 'liblinear', 'penalty': 'l1', 'C': 0.011653135355796283}\n"
     ]
    }
   ],
   "source": [
    "# cоздаем объект исследования\n",
    "study = optuna.create_study(study_name='LogisticRegression', direction=\"maximize\")\n",
    "# ищем лучшую комбинацию гиперпараметров n_trials раз\n",
    "study.optimize(optuna_log_reg, n_trials=10)\n",
    "print('-'*40)\n",
    "print(\"Наилучшие значения гиперпараметров {}\".format(study.best_params))"
   ]
  },
  {
   "cell_type": "code",
   "execution_count": 14,
   "id": "4d784cec",
   "metadata": {},
   "outputs": [
    {
     "name": "stdout",
     "output_type": "stream",
     "text": [
      "Модель выдает F1-score на тренировочной выборке 0.748\n",
      "Модель выдает F1-score на тестовой выборке 0.771\n"
     ]
    }
   ],
   "source": [
    "# рассчитаем точность для тренировочной и тестовой выборок\n",
    "logistic_model = LogisticRegression(\n",
    "            **study.best_params,\n",
    "            random_state = RANDOM_STATE,\n",
    "            max_iter=200)\n",
    "\n",
    "logistic_model.fit(X_train, y_train)\n",
    "\n",
    "y_train_pred = logistic_model.predict(X_train)\n",
    "y_test_pred = logistic_model.predict(X_test)\n",
    "\n",
    "log_score_train_4 = round(f1_score(y_train, y_train_pred),3)\n",
    "log_score_test_4 = round(f1_score(y_test, y_test_pred), 3)\n",
    "\n",
    "print(f'Модель выдает F1-score на тренировочной выборке {log_score_train_4}')\n",
    "print(f'Модель выдает F1-score на тестовой выборке {log_score_test_4}')"
   ]
  },
  {
   "cell_type": "code",
   "execution_count": 15,
   "id": "d6c5a9e8",
   "metadata": {},
   "outputs": [
    {
     "data": {
      "image/png": "[encoded data removed]",
      "text/plain": [
       "<Figure size 800x500 with 1 Axes>"
      ]
     },
     "metadata": {},
     "output_type": "display_data"
    }
   ],
   "source": [
    "# Визуализируем полученные результаты\n",
    "\n",
    "models = ['Classic', 'GridSearchCV', 'RandomizedSearchCv', 'HyperOpt', 'Optuna']\n",
    "train_scores = [log_score_train_0, log_score_train_1, log_score_train_2, log_score_train_3, log_score_train_4]\n",
    "test_scores = [log_score_test_0, log_score_test_1, log_score_test_2, log_score_test_3, log_score_test_4]\n",
    "\n",
    "x = np.arange(len(models))\n",
    "width = 0.35\n",
    "\n",
    "fig, ax = plt.subplots(figsize=(8,5))\n",
    "\n",
    "ax.bar(x - width/2, train_scores, width, label='Train')\n",
    "ax.bar(x + width/2, test_scores, width, label='Test')\n",
    "\n",
    "ax.set_ylabel('Score')\n",
    "ax.set_title('Сравнение моделей по метрике F1')\n",
    "ax.set_xticks(x)\n",
    "ax.set_xticklabels(models)\n",
    "ax.legend()\n",
    "ax.xaxis.set_tick_params(rotation = 15)\n",
    "ax.grid(linestyle=':');"
   ]
  },
  {
   "cell_type": "markdown",
   "id": "8fa24e4e",
   "metadata": {},
   "source": [
    "Как это и неудивительно, на тестовой выборке победителем в нашей номинации становится метод *RandomizedSearchCv*.\n",
    "Видно, что для мощного метода *Optuna* банально не хватило итераций (было сделано 10 штук, с учетом 5 фолдов кроссвалидации получается 50) - модель даже на трейне выдает самый худший результат."
   ]
  },
  {
   "cell_type": "markdown",
   "id": "3237b37e",
   "metadata": {},
   "source": [
    "## *Модель случайного леса*"
   ]
  },
  {
   "cell_type": "code",
   "execution_count": 16,
   "id": "f29b9c66",
   "metadata": {},
   "outputs": [
    {
     "name": "stdout",
     "output_type": "stream",
     "text": [
      "Модель выдает F1-score на тренировочной выборке 1.0\n",
      "Модель выдает F1-score на тестовой выборке 0.832\n"
     ]
    }
   ],
   "source": [
    "forest_model = RandomForestClassifier()\n",
    "forest_model.fit(X_train, y_train)\n",
    "\n",
    "y_train_pred = forest_model.predict(X_train)\n",
    "y_test_pred = forest_model.predict(X_test)\n",
    "\n",
    "for_score_train_0 = round(f1_score(y_train, y_train_pred),3)\n",
    "for_score_test_0 = round(f1_score(y_test, y_test_pred), 3)\n",
    "\n",
    "print(f'Модель выдает F1-score на тренировочной выборке {for_score_train_0}')\n",
    "print(f'Модель выдает F1-score на тестовой выборке {for_score_test_0}')"
   ]
  },
  {
   "cell_type": "markdown",
   "id": "245efe69",
   "metadata": {},
   "source": [
    "### *GridSearchCV*"
   ]
  },
  {
   "cell_type": "code",
   "execution_count": 17,
   "id": "fca221f0",
   "metadata": {},
   "outputs": [
    {
     "name": "stdout",
     "output_type": "stream",
     "text": [
      "Модель выдает F1-score на тренировочной выборке 0.943\n",
      "Модель выдает F1-score на тестовой выборке 0.834\n",
      "Наилучшие значения гиперпараметров: {'max_depth': 25, 'min_samples_leaf': 5}\n"
     ]
    }
   ],
   "source": [
    "param_grid = {'min_samples_leaf': [5, 7], 'max_depth': [10, 13, 18, 21, 25]}\n",
    "\n",
    "forest_model = RandomForestClassifier(random_state=RANDOM_STATE)\n",
    "\n",
    "grid_search = GridSearchCV(\n",
    "            estimator=forest_model,\n",
    "            param_grid=param_grid,\n",
    "            cv=5, # активируем кросс-валидацию\n",
    "            n_jobs=-1)\n",
    "\n",
    "grid_search.fit(X_train, y_train) \n",
    "\n",
    "y_train_pred = grid_search.predict(X_train)\n",
    "y_test_pred = grid_search.predict(X_test)\n",
    "\n",
    "for_score_train_1= round(f1_score(y_train, y_train_pred),3)\n",
    "for_score_test_1 = round(f1_score(y_test, y_test_pred), 3)\n",
    "\n",
    "print(f'Модель выдает F1-score на тренировочной выборке {for_score_train_1}')\n",
    "print(f'Модель выдает F1-score на тестовой выборке {for_score_test_1}')\n",
    "\n",
    "print(\"Наилучшие значения гиперпараметров: {}\".format(grid_search.best_params_))"
   ]
  },
  {
   "cell_type": "markdown",
   "id": "c0f763ca",
   "metadata": {},
   "source": [
    "### *RandomizedSearchCV* "
   ]
  },
  {
   "cell_type": "code",
   "execution_count": 18,
   "id": "10f963d5",
   "metadata": {},
   "outputs": [
    {
     "name": "stdout",
     "output_type": "stream",
     "text": [
      "Модель выдает F1-score на тренировочной выборке 0.987\n",
      "Модель выдает F1-score на тестовой выборке 0.826\n",
      "Наилучшие значения гиперпараметров: {'n_estimators': 100, 'min_samples_split': 5, 'min_samples_leaf': 2, 'max_features': 'sqrt', 'max_depth': 25}\n"
     ]
    }
   ],
   "source": [
    "param_distributions = {\n",
    "    'min_samples_leaf': [2, 4, 6, 8, 10],           \n",
    "    'max_depth': [10, 13, 15, 18, 21, 25], \n",
    "    'min_samples_split': [2, 5, 10],             \n",
    "    'n_estimators': [50, 100, 200, 300],         \n",
    "    'max_features': ['sqrt', 'log2']     \n",
    "}\n",
    "\n",
    "\n",
    "forest_model = RandomForestClassifier(random_state=RANDOM_STATE)\n",
    "\n",
    "random_search = RandomizedSearchCV(\n",
    "            estimator=forest_model,\n",
    "            param_distributions=param_distributions,\n",
    "            n_iter=10,  # всего 10 случайных комбинаций\n",
    "            cv=5,       # кросс валидация на 5 фолдов\n",
    "            n_jobs=-1)\n",
    "\n",
    "random_search.fit(X_train, y_train) \n",
    "\n",
    "y_train_pred = random_search.predict(X_train)\n",
    "y_test_pred = random_search.predict(X_test)\n",
    "\n",
    "for_score_train_2= round(f1_score(y_train, y_train_pred),3)\n",
    "for_score_test_2 = round(f1_score(y_test, y_test_pred), 3)\n",
    "\n",
    "print(f'Модель выдает F1-score на тренировочной выборке {for_score_train_2}')\n",
    "print(f'Модель выдает F1-score на тестовой выборке {for_score_test_2}')\n",
    "\n",
    "print(\"Наилучшие значения гиперпараметров: {}\".format(random_search.best_params_))"
   ]
  },
  {
   "cell_type": "markdown",
   "id": "f4248aba",
   "metadata": {},
   "source": [
    "### *Hyperopt*"
   ]
  },
  {
   "cell_type": "code",
   "execution_count": 19,
   "id": "b34929a9",
   "metadata": {},
   "outputs": [],
   "source": [
    "# Создадим простанство гиперпараметров\n",
    "\n",
    "space = {\n",
    "    'n_estimators': hp.quniform('n_estimators', 50, 500, 10),           # количество деревьев, от 50 до 500 с шагом 10\n",
    "    'max_depth': hp.quniform('max_depth', 5, 50, 1),                    # максимальная глубина дерева\n",
    "    'min_samples_split': hp.quniform('min_samples_split', 2, 20, 1),    # минимальное число объектов для разбиения узла\n",
    "    'min_samples_leaf': hp.quniform('min_samples_leaf', 1, 10, 1),      # минимальное число объектов в листе\n",
    "    'max_features': hp.choice('max_features', ['sqrt', 'log2']) # число признаков для разбиения\n",
    "}"
   ]
  },
  {
   "cell_type": "code",
   "execution_count": 20,
   "id": "95ecb7af",
   "metadata": {},
   "outputs": [],
   "source": [
    "def hyperopt_forest(params, cv=5, X=X_train, y=y_train, random_state=RANDOM_STATE):\n",
    "    \n",
    "    # функция получает комбинацию гиперпараметров в \"params\"\n",
    "    params =   {'n_estimators': int(params['n_estimators']),\n",
    "                'max_depth': int(params['max_depth']),\n",
    "                'min_samples_split': int(params['min_samples_split']),\n",
    "                'min_samples_leaf': int(params['min_samples_leaf']),\n",
    "                'max_features': params['max_features']\n",
    "    }\n",
    "\n",
    "  \n",
    "    forest_model = RandomForestClassifier(**params, random_state=RANDOM_STATE)\n",
    "    \n",
    "    # Обучаем модель на кросс валидации и сразу считаем score\n",
    "    score = cross_val_score(forest_model, X, y, cv=cv, scoring=\"f1\", n_jobs=-1).mean()\n",
    "\n",
    "    # метрику необходимо минимизировать, поэтому ставим знак минус\n",
    "    return -score"
   ]
  },
  {
   "cell_type": "code",
   "execution_count": 21,
   "id": "3b5b196e",
   "metadata": {},
   "outputs": [
    {
     "name": "stderr",
     "output_type": "stream",
     "text": [
      "TPE is being used as the default algorithm.\n"
     ]
    },
    {
     "name": "stdout",
     "output_type": "stream",
     "text": [
      "100%|██████████| 10/10 [00:37<00:00,  3.79s/trial, best loss: -0.8085522567240029]\n",
      "Наилучшие значения гиперпараметров {'max_depth': 50.0, 'max_features': 0, 'min_samples_leaf': 1.0, 'min_samples_split': 16.0, 'n_estimators': 380.0}\n"
     ]
    }
   ],
   "source": [
    "# начинаем подбор гиперпараметров\n",
    "\n",
    "trials = Trials() # используется для логирования результатов\n",
    "\n",
    "best = fmin(hyperopt_forest, # наша функция \n",
    "            space=space, # пространство гиперпараметров\n",
    "            max_evals=10, # максимальное количество итераций\n",
    "            trials=trials, # логирование результатов\n",
    "            rstate = np.random.default_rng(RANDOM_STATE))\n",
    "\n",
    "print(\"Наилучшие значения гиперпараметров {}\".format(best))"
   ]
  },
  {
   "cell_type": "code",
   "execution_count": 22,
   "id": "1b3868af",
   "metadata": {},
   "outputs": [
    {
     "name": "stdout",
     "output_type": "stream",
     "text": [
      "Модель выдает F1-score на тренировочной выборке 0.962\n",
      "Модель выдает F1-score на тестовой выборке 0.834\n"
     ]
    }
   ],
   "source": [
    "# рассчитаем F1 для тренировочной и тестовой выборок\n",
    "forest_model = RandomForestClassifier(\n",
    "        random_state = RANDOM_STATE, \n",
    "        max_depth=int(best['max_depth']),\n",
    "        max_features='sqrt',\n",
    "        min_samples_leaf=int(best['min_samples_leaf']),\n",
    "        min_samples_split=int(best['min_samples_split']), \n",
    "        n_estimators=int(best['n_estimators'])\n",
    "        )\n",
    "        \n",
    "forest_model.fit(X_train, y_train)\n",
    "\n",
    "y_train_pred = forest_model.predict(X_train)\n",
    "y_test_pred = forest_model.predict(X_test)\n",
    "\n",
    "for_score_train_3 = round(f1_score(y_train, y_train_pred),3)\n",
    "for_score_test_3 = round(f1_score(y_test, y_test_pred), 3)\n",
    "\n",
    "print(f'Модель выдает F1-score на тренировочной выборке {for_score_train_3}')\n",
    "print(f'Модель выдает F1-score на тестовой выборке {for_score_test_3}')"
   ]
  },
  {
   "cell_type": "markdown",
   "id": "7225320d",
   "metadata": {},
   "source": [
    "### *Optuna*"
   ]
  },
  {
   "cell_type": "code",
   "execution_count": 23,
   "id": "3f7dce5a",
   "metadata": {},
   "outputs": [],
   "source": [
    "def optuna_forest(trial, cv=5, X=X_train, y=y_train, random_state=RANDOM_STATE):\n",
    "    \n",
    "    # задаем пространства поиска гиперпараметров\n",
    "    \n",
    "    n_estimators = trial.suggest_int('n_estimators', 50, 500, step=10)\n",
    "    max_depth = trial.suggest_int('max_depth', 5, 50)\n",
    "    min_samples_split = trial.suggest_int('min_samples_split', 2, 20)\n",
    "    min_samples_leaf = trial.suggest_int('min_samples_leaf', 1, 10)\n",
    "    max_features = trial.suggest_categorical('max_features', ['sqrt', 'log2'])\n",
    "  \n",
    "\n",
    "    forest_model = RandomForestClassifier(\n",
    "        n_estimators=n_estimators,\n",
    "        max_depth=max_depth,\n",
    "        min_samples_split=min_samples_split,\n",
    "        min_samples_leaf=min_samples_leaf,\n",
    "        max_features=max_features,\n",
    "        random_state=RANDOM_STATE\n",
    "    )\n",
    "        \n",
    "    # Обучаем модель на кросс валидации и сразу считаем score\n",
    "    score = cross_val_score(forest_model, X, y, cv=cv, scoring=\"f1\", n_jobs=-1).mean()\n",
    "    \n",
    "    return score"
   ]
  },
  {
   "cell_type": "code",
   "execution_count": 24,
   "id": "92379d82",
   "metadata": {},
   "outputs": [
    {
     "name": "stderr",
     "output_type": "stream",
     "text": [
      "[I 2025-07-02 19:16:50,393] A new study created in memory with name: RandomForestClassifier\n",
      "[I 2025-07-02 19:16:51,984] Trial 0 finished with value: 0.7810060065939828 and parameters: {'n_estimators': 210, 'max_depth': 29, 'min_samples_split': 20, 'min_samples_leaf': 3, 'max_features': 'log2'}. Best is trial 0 with value: 0.7810060065939828.\n",
      "[I 2025-07-02 19:16:55,167] Trial 1 finished with value: 0.7938869908693559 and parameters: {'n_estimators': 420, 'max_depth': 49, 'min_samples_split': 14, 'min_samples_leaf': 2, 'max_features': 'log2'}. Best is trial 1 with value: 0.7938869908693559.\n",
      "[I 2025-07-02 19:16:55,801] Trial 2 finished with value: 0.7822119577706357 and parameters: {'n_estimators': 50, 'max_depth': 38, 'min_samples_split': 17, 'min_samples_leaf': 2, 'max_features': 'log2'}. Best is trial 1 with value: 0.7938869908693559.\n",
      "[I 2025-07-02 19:16:57,467] Trial 3 finished with value: 0.7684755910761641 and parameters: {'n_estimators': 250, 'max_depth': 19, 'min_samples_split': 16, 'min_samples_leaf': 9, 'max_features': 'log2'}. Best is trial 1 with value: 0.7938869908693559.\n",
      "[I 2025-07-02 19:17:00,392] Trial 4 finished with value: 0.8043826659262233 and parameters: {'n_estimators': 140, 'max_depth': 49, 'min_samples_split': 11, 'min_samples_leaf': 2, 'max_features': 'sqrt'}. Best is trial 4 with value: 0.8043826659262233.\n",
      "[I 2025-07-02 19:17:01,150] Trial 5 finished with value: 0.7550235270439165 and parameters: {'n_estimators': 90, 'max_depth': 10, 'min_samples_split': 14, 'min_samples_leaf': 6, 'max_features': 'log2'}. Best is trial 4 with value: 0.8043826659262233.\n",
      "[I 2025-07-02 19:17:02,250] Trial 6 finished with value: 0.763362261747092 and parameters: {'n_estimators': 160, 'max_depth': 20, 'min_samples_split': 15, 'min_samples_leaf': 10, 'max_features': 'log2'}. Best is trial 4 with value: 0.8043826659262233.\n",
      "[I 2025-07-02 19:17:03,277] Trial 7 finished with value: 0.7791932638169158 and parameters: {'n_estimators': 120, 'max_depth': 45, 'min_samples_split': 11, 'min_samples_leaf': 5, 'max_features': 'log2'}. Best is trial 4 with value: 0.8043826659262233.\n",
      "[I 2025-07-02 19:17:05,808] Trial 8 finished with value: 0.7890267317283722 and parameters: {'n_estimators': 170, 'max_depth': 34, 'min_samples_split': 12, 'min_samples_leaf': 10, 'max_features': 'sqrt'}. Best is trial 4 with value: 0.8043826659262233.\n",
      "[I 2025-07-02 19:17:11,450] Trial 9 finished with value: 0.7954447727323316 and parameters: {'n_estimators': 350, 'max_depth': 12, 'min_samples_split': 17, 'min_samples_leaf': 2, 'max_features': 'sqrt'}. Best is trial 4 with value: 0.8043826659262233.\n"
     ]
    },
    {
     "name": "stdout",
     "output_type": "stream",
     "text": [
      "----------------------------------------\n",
      "Наилучшие значения гиперпараметров {'n_estimators': 140, 'max_depth': 49, 'min_samples_split': 11, 'min_samples_leaf': 2, 'max_features': 'sqrt'}\n"
     ]
    }
   ],
   "source": [
    "# cоздаем объект исследования\n",
    "study = optuna.create_study(study_name='RandomForestClassifier', direction=\"maximize\")\n",
    "# ищем лучшую комбинацию гиперпараметров n_trials раз\n",
    "study.optimize(optuna_forest, n_trials=10)\n",
    "print('-'*40)\n",
    "print(\"Наилучшие значения гиперпараметров {}\".format(study.best_params))"
   ]
  },
  {
   "cell_type": "code",
   "execution_count": 25,
   "id": "85a9ef24",
   "metadata": {},
   "outputs": [
    {
     "name": "stdout",
     "output_type": "stream",
     "text": [
      "Модель выдает F1-score на тренировочной выборке 0.962\n",
      "Модель выдает F1-score на тестовой выборке 0.834\n"
     ]
    }
   ],
   "source": [
    "# рассчитаем точность для тренировочной и тестовой выборок\n",
    "forest_modelmodel = RandomForestClassifier(\n",
    "            **study.best_params,\n",
    "            random_state = RANDOM_STATE)\n",
    "\n",
    "forest_model.fit(X_train, y_train)\n",
    "\n",
    "y_train_pred = forest_model.predict(X_train)\n",
    "y_test_pred = forest_model.predict(X_test)\n",
    "\n",
    "for_score_train_4 = round(f1_score(y_train, y_train_pred),3)\n",
    "for_score_test_4 = round(f1_score(y_test, y_test_pred), 3)\n",
    "\n",
    "print(f'Модель выдает F1-score на тренировочной выборке {for_score_train_4}')\n",
    "print(f'Модель выдает F1-score на тестовой выборке {for_score_test_4}')"
   ]
  },
  {
   "cell_type": "code",
   "execution_count": 26,
   "id": "cc8f1a5f",
   "metadata": {},
   "outputs": [
    {
     "data": {
      "image/png": "[encoded data removed]",
      "text/plain": [
       "<Figure size 900x500 with 1 Axes>"
      ]
     },
     "metadata": {},
     "output_type": "display_data"
    }
   ],
   "source": [
    "# Визуализируем полученные результаты\n",
    "\n",
    "models = ['Classic', 'GridSearchCV', 'RandomizedSearchCv', 'HyperOpt', 'Optuna']\n",
    "train_scores = [for_score_train_0, for_score_train_1, for_score_train_2, for_score_train_3, for_score_train_4]\n",
    "test_scores = [for_score_test_0, for_score_test_1, for_score_test_2, for_score_test_3, for_score_test_4]\n",
    "\n",
    "x = np.arange(len(models))\n",
    "width = 0.35\n",
    "\n",
    "fig, ax = plt.subplots(figsize=(9,5))\n",
    "\n",
    "ax.bar(x - width/2, train_scores, width, label='Train')\n",
    "ax.bar(x + width/2, test_scores, width, label='Test')\n",
    "\n",
    "ax.set_ylabel('Score')\n",
    "ax.set_title('Сравнение моделей по метрике F1')\n",
    "ax.set_xticks(x)\n",
    "ax.set_xticklabels(models)\n",
    "ax.legend()\n",
    "ax.xaxis.set_tick_params(rotation = 15)\n",
    "ax.yaxis.set_tick_params(rotation = 30)\n",
    "ax.set_yticks(np.arange(0, 1.01, 0.05))\n",
    "ax.grid(linestyle=':');"
   ]
  },
  {
   "cell_type": "markdown",
   "id": "b9167367",
   "metadata": {},
   "source": [
    "И вновь продвинутые методы оптимизации остались за бортом. На этот раз победителем стал *GridSearchCV*.\n",
    "Вероятно, если бы мы не использовали кросс-валидацию и за счет этого увеличили бы *max_evals* и *n_trials*, продвинутые модели показали бы результат получше.\n",
    "\n",
    "В целом видно, что с данной задачей лучше справляется модель случайного леса - метрики значительно выше, что у логистической регрессии. Но также несмотря на высокие значения метрик на тесте, видно что модели получились довольно таки переобученные, поскольку метрики на трейне очень близки к 1."
   ]
  }
 ],
 "metadata": {
  "kernelspec": {
   "display_name": "Python 3",
   "language": "python",
   "name": "python3"
  },
  "language_info": {
   "codemirror_mode": {
    "name": "ipython",
    "version": 3
   },
   "file_extension": ".py",
   "mimetype": "text/x-python",
   "name": "python",
   "nbconvert_exporter": "python",
   "pygments_lexer": "ipython3",
   "version": "3.10.11"
  }
 },
 "nbformat": 4,
 "nbformat_minor": 5
}
